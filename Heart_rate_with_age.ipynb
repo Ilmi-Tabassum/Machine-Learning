{
  "nbformat": 4,
  "nbformat_minor": 0,
  "metadata": {
    "colab": {
      "name": "Heart rate  with age.ipynb",
      "provenance": [],
      "collapsed_sections": []
    },
    "kernelspec": {
      "name": "python3",
      "display_name": "Python 3"
    }
  },
  "cells": [
    {
      "cell_type": "code",
      "metadata": {
        "id": "JSTTHMwTkhRD"
      },
      "source": [
        "import pandas as pd\n",
        "import numpy as np\n",
        "import matplotlib.pyplot as plt\n",
        "import seaborn as sn\n",
        "from sklearn.metrics import confusion_matrix\n",
        "from sklearn.model_selection import train_test_split\n",
        "from sklearn.datasets import make_regression\n",
        "%matplotlib inline\n",
        "import sklearn"
      ],
      "execution_count": null,
      "outputs": []
    },
    {
      "cell_type": "code",
      "metadata": {
        "id": "6giPvqSWl_sy"
      },
      "source": [
        "heart = pd.read_csv('/content/heart failur classification dataset.csv')"
      ],
      "execution_count": null,
      "outputs": []
    },
    {
      "cell_type": "code",
      "metadata": {
        "id": "JG1wRtqN4MbT"
      },
      "source": [
        "heart= heart.assign(target = lambda x : 0)"
      ],
      "execution_count": null,
      "outputs": []
    },
    {
      "cell_type": "code",
      "metadata": {
        "colab": {
          "base_uri": "https://localhost:8080/",
          "height": 241
        },
        "id": "zPFJ2DO4mFlO",
        "outputId": "ce6315f1-3821-4d26-8918-f14ce47ee710"
      },
      "source": [
        "heart.head()"
      ],
      "execution_count": null,
      "outputs": [
        {
          "output_type": "execute_result",
          "data": {
            "text/html": [
              "<div>\n",
              "<style scoped>\n",
              "    .dataframe tbody tr th:only-of-type {\n",
              "        vertical-align: middle;\n",
              "    }\n",
              "\n",
              "    .dataframe tbody tr th {\n",
              "        vertical-align: top;\n",
              "    }\n",
              "\n",
              "    .dataframe thead th {\n",
              "        text-align: right;\n",
              "    }\n",
              "</style>\n",
              "<table border=\"1\" class=\"dataframe\">\n",
              "  <thead>\n",
              "    <tr style=\"text-align: right;\">\n",
              "      <th></th>\n",
              "      <th>Unnamed: 0</th>\n",
              "      <th>age</th>\n",
              "      <th>anaemia</th>\n",
              "      <th>creatinine_phosphokinase</th>\n",
              "      <th>diabetes</th>\n",
              "      <th>ejection_fraction</th>\n",
              "      <th>high_blood_pressure</th>\n",
              "      <th>platelets</th>\n",
              "      <th>serum_creatinine</th>\n",
              "      <th>serum_sodium</th>\n",
              "      <th>sex</th>\n",
              "      <th>smoking</th>\n",
              "      <th>time</th>\n",
              "      <th>DEATH_EVENT</th>\n",
              "      <th>target</th>\n",
              "    </tr>\n",
              "  </thead>\n",
              "  <tbody>\n",
              "    <tr>\n",
              "      <th>0</th>\n",
              "      <td>0</td>\n",
              "      <td>75.0</td>\n",
              "      <td>0</td>\n",
              "      <td>582</td>\n",
              "      <td>0</td>\n",
              "      <td>20</td>\n",
              "      <td>1</td>\n",
              "      <td>265000.00</td>\n",
              "      <td>1.9</td>\n",
              "      <td>NaN</td>\n",
              "      <td>Male</td>\n",
              "      <td>No</td>\n",
              "      <td>4.0</td>\n",
              "      <td>1</td>\n",
              "      <td>0</td>\n",
              "    </tr>\n",
              "    <tr>\n",
              "      <th>1</th>\n",
              "      <td>1</td>\n",
              "      <td>55.0</td>\n",
              "      <td>0</td>\n",
              "      <td>7861</td>\n",
              "      <td>0</td>\n",
              "      <td>38</td>\n",
              "      <td>0</td>\n",
              "      <td>263358.03</td>\n",
              "      <td>1.1</td>\n",
              "      <td>136.0</td>\n",
              "      <td>Male</td>\n",
              "      <td>No</td>\n",
              "      <td>6.0</td>\n",
              "      <td>1</td>\n",
              "      <td>0</td>\n",
              "    </tr>\n",
              "    <tr>\n",
              "      <th>2</th>\n",
              "      <td>2</td>\n",
              "      <td>65.0</td>\n",
              "      <td>0</td>\n",
              "      <td>146</td>\n",
              "      <td>0</td>\n",
              "      <td>20</td>\n",
              "      <td>0</td>\n",
              "      <td>162000.00</td>\n",
              "      <td>1.3</td>\n",
              "      <td>129.0</td>\n",
              "      <td>Male</td>\n",
              "      <td>Yes</td>\n",
              "      <td>7.0</td>\n",
              "      <td>1</td>\n",
              "      <td>0</td>\n",
              "    </tr>\n",
              "    <tr>\n",
              "      <th>3</th>\n",
              "      <td>3</td>\n",
              "      <td>50.0</td>\n",
              "      <td>1</td>\n",
              "      <td>111</td>\n",
              "      <td>0</td>\n",
              "      <td>20</td>\n",
              "      <td>0</td>\n",
              "      <td>210000.00</td>\n",
              "      <td>1.9</td>\n",
              "      <td>137.0</td>\n",
              "      <td>Male</td>\n",
              "      <td>No</td>\n",
              "      <td>7.0</td>\n",
              "      <td>1</td>\n",
              "      <td>0</td>\n",
              "    </tr>\n",
              "    <tr>\n",
              "      <th>4</th>\n",
              "      <td>4</td>\n",
              "      <td>65.0</td>\n",
              "      <td>1</td>\n",
              "      <td>160</td>\n",
              "      <td>1</td>\n",
              "      <td>20</td>\n",
              "      <td>0</td>\n",
              "      <td>327000.00</td>\n",
              "      <td>2.7</td>\n",
              "      <td>116.0</td>\n",
              "      <td>Female</td>\n",
              "      <td>No</td>\n",
              "      <td>8.0</td>\n",
              "      <td>1</td>\n",
              "      <td>0</td>\n",
              "    </tr>\n",
              "  </tbody>\n",
              "</table>\n",
              "</div>"
            ],
            "text/plain": [
              "   Unnamed: 0   age  anaemia  ...  time  DEATH_EVENT  target\n",
              "0           0  75.0        0  ...   4.0            1       0\n",
              "1           1  55.0        0  ...   6.0            1       0\n",
              "2           2  65.0        0  ...   7.0            1       0\n",
              "3           3  50.0        1  ...   7.0            1       0\n",
              "4           4  65.0        1  ...   8.0            1       0\n",
              "\n",
              "[5 rows x 15 columns]"
            ]
          },
          "metadata": {
            "tags": []
          },
          "execution_count": 69
        }
      ]
    },
    {
      "cell_type": "code",
      "metadata": {
        "colab": {
          "base_uri": "https://localhost:8080/"
        },
        "id": "7Vn_vnuHvFoN",
        "outputId": "ff4a62fe-8464-4b77-da64-ef49fdade67e"
      },
      "source": [
        "from sklearn.preprocessing import LabelEncoder\n",
        "\n",
        "# Set up the LabelEncoder object\n",
        "enc = LabelEncoder()\n",
        "\n",
        "# Apply the encoding to the \"Accessible\" column\n",
        "heart['sex'] = enc.fit_transform(heart['sex'])\n",
        "\n",
        "# Compare the two columns\n",
        "print(heart[['sex']].head())"
      ],
      "execution_count": null,
      "outputs": [
        {
          "output_type": "stream",
          "text": [
            "   sex\n",
            "0    1\n",
            "1    1\n",
            "2    1\n",
            "3    1\n",
            "4    0\n"
          ],
          "name": "stdout"
        }
      ]
    },
    {
      "cell_type": "code",
      "metadata": {
        "colab": {
          "base_uri": "https://localhost:8080/"
        },
        "id": "Hmohdzqc0LgQ",
        "outputId": "0032d07f-54f2-4c16-e598-5a705035c178"
      },
      "source": [
        "heart_subset = heart[heart['time'].notnull()]\n",
        "\n",
        "# Print out the shape of the subset\n",
        "print(\"Shape after removing null values: \", heart_subset.shape)\n",
        "print(\"Shape of dataframe before dropping:\", heart.shape)\n",
        "heart = heart.dropna(axis = 0, subset = ['time'])\n",
        "print(\"Shape after dropping:\", heart.shape)"
      ],
      "execution_count": null,
      "outputs": [
        {
          "output_type": "stream",
          "text": [
            "Shape after removing null values:  (292, 15)\n",
            "Shape of dataframe before dropping: (299, 15)\n",
            "Shape after dropping: (292, 15)\n"
          ],
          "name": "stdout"
        }
      ]
    },
    {
      "cell_type": "code",
      "metadata": {
        "id": "x6mI_j3z0Wp_"
      },
      "source": [
        "from sklearn.impute import SimpleImputer\n",
        "\n",
        "impute = SimpleImputer(missing_values=np.nan, strategy='mean')\n",
        "\n",
        "impute.fit(heart[['serum_sodium']])\n",
        "\n",
        "heart['serum_sodium'] = impute.transform(heart[['serum_sodium']])"
      ],
      "execution_count": null,
      "outputs": []
    },
    {
      "cell_type": "code",
      "metadata": {
        "colab": {
          "base_uri": "https://localhost:8080/"
        },
        "id": "usFWnOmo0cXh",
        "outputId": "0898f3c4-f3d2-47ef-db2c-b289977556b5"
      },
      "source": [
        "heart.info()"
      ],
      "execution_count": null,
      "outputs": [
        {
          "output_type": "stream",
          "text": [
            "<class 'pandas.core.frame.DataFrame'>\n",
            "Int64Index: 292 entries, 0 to 297\n",
            "Data columns (total 15 columns):\n",
            " #   Column                    Non-Null Count  Dtype  \n",
            "---  ------                    --------------  -----  \n",
            " 0   Unnamed: 0                292 non-null    int64  \n",
            " 1   age                       292 non-null    float64\n",
            " 2   anaemia                   292 non-null    int64  \n",
            " 3   creatinine_phosphokinase  292 non-null    int64  \n",
            " 4   diabetes                  292 non-null    int64  \n",
            " 5   ejection_fraction         292 non-null    int64  \n",
            " 6   high_blood_pressure       292 non-null    int64  \n",
            " 7   platelets                 292 non-null    float64\n",
            " 8   serum_creatinine          292 non-null    float64\n",
            " 9   serum_sodium              292 non-null    float64\n",
            " 10  sex                       292 non-null    int64  \n",
            " 11  smoking                   292 non-null    object \n",
            " 12  time                      292 non-null    float64\n",
            " 13  DEATH_EVENT               292 non-null    int64  \n",
            " 14  target                    292 non-null    int64  \n",
            "dtypes: float64(5), int64(9), object(1)\n",
            "memory usage: 36.5+ KB\n"
          ],
          "name": "stdout"
        }
      ]
    },
    {
      "cell_type": "code",
      "metadata": {
        "colab": {
          "base_uri": "https://localhost:8080/"
        },
        "id": "iLTzJMOCclkp",
        "outputId": "1eca19dd-5163-42f6-d737-985ec7387b35"
      },
      "source": [
        "from sklearn.preprocessing import LabelEncoder\n",
        "\n",
        "# Set up the LabelEncoder object\n",
        "enc = LabelEncoder()\n",
        "\n",
        "# Apply the encoding to the \"Accessible\" column\n",
        "heart['smoking'] = enc.fit_transform(heart['smoking'])\n",
        "\n",
        "# Compare the two columns\n",
        "print(heart[['smoking']].head())"
      ],
      "execution_count": null,
      "outputs": [
        {
          "output_type": "stream",
          "text": [
            "   smoking\n",
            "0        0\n",
            "1        0\n",
            "2        1\n",
            "3        0\n",
            "4        0\n"
          ],
          "name": "stdout"
        }
      ]
    },
    {
      "cell_type": "code",
      "metadata": {
        "colab": {
          "base_uri": "https://localhost:8080/"
        },
        "id": "j9N_11XsYFoK",
        "outputId": "b3e77a94-f43f-48f5-faba-fdebecc73905"
      },
      "source": [
        "print(heart.isnull().sum())"
      ],
      "execution_count": null,
      "outputs": [
        {
          "output_type": "stream",
          "text": [
            "Unnamed: 0                  0\n",
            "age                         0\n",
            "anaemia                     0\n",
            "creatinine_phosphokinase    0\n",
            "diabetes                    0\n",
            "ejection_fraction           0\n",
            "high_blood_pressure         0\n",
            "platelets                   0\n",
            "serum_creatinine            0\n",
            "serum_sodium                0\n",
            "sex                         0\n",
            "smoking                     0\n",
            "time                        0\n",
            "DEATH_EVENT                 0\n",
            "target                      0\n",
            "dtype: int64\n"
          ],
          "name": "stdout"
        }
      ]
    },
    {
      "cell_type": "code",
      "metadata": {
        "id": "jKKXkfhm3lee"
      },
      "source": [
        "import matplotlib.pyplot as plt\n",
        "import seaborn as sns\n",
        "from sklearn.linear_model import LogisticRegression\n",
        "from sklearn.metrics import classification_report\n",
        "from sklearn.metrics import confusion_matrix, classification_report,accuracy_score\n",
        "from sklearn.preprocessing import StandardScaler, LabelEncoder\n",
        "from sklearn.model_selection import train_test_split, cross_val_score\n",
        "from sklearn.metrics import accuracy_score\n",
        "from sklearn.model_selection import train_test_split"
      ],
      "execution_count": null,
      "outputs": []
    },
    {
      "cell_type": "code",
      "metadata": {
        "id": "cnolc_H0dxSI",
        "colab": {
          "base_uri": "https://localhost:8080/"
        },
        "outputId": "00f5b194-4b6d-409e-fe99-e1e1eab97c8e"
      },
      "source": [
        "from sklearn.model_selection import train_test_split\n",
        "from sklearn.preprocessing import LabelEncoder\n",
        "enc = LabelEncoder()\n",
        "\n",
        "heart['high_blood_pressure'] = enc.fit_transform(heart['high_blood_pressure'])\n",
        "\n",
        "print(heart['high_blood_pressure'])"
      ],
      "execution_count": null,
      "outputs": [
        {
          "output_type": "stream",
          "text": [
            "0      1\n",
            "1      0\n",
            "2      0\n",
            "3      0\n",
            "4      0\n",
            "      ..\n",
            "293    0\n",
            "294    1\n",
            "295    0\n",
            "296    0\n",
            "297    0\n",
            "Name: high_blood_pressure, Length: 292, dtype: int64\n"
          ],
          "name": "stdout"
        }
      ]
    },
    {
      "cell_type": "code",
      "metadata": {
        "id": "VzyWKgR4NukT",
        "colab": {
          "base_uri": "https://localhost:8080/"
        },
        "outputId": "2abafe84-01a1-4fa0-d76b-6dbc7893979e"
      },
      "source": [
        "heart = heart.drop(['Unnamed: 0'], axis = 1)\n",
        "heart.shape"
      ],
      "execution_count": null,
      "outputs": [
        {
          "output_type": "execute_result",
          "data": {
            "text/plain": [
              "(292, 14)"
            ]
          },
          "metadata": {
            "tags": []
          },
          "execution_count": 78
        }
      ]
    },
    {
      "cell_type": "code",
      "metadata": {
        "colab": {
          "base_uri": "https://localhost:8080/",
          "height": 224
        },
        "id": "OMf8xFxoeZMv",
        "outputId": "4a86e0f7-fa13-4cdd-c547-02094d7608f9"
      },
      "source": [
        "heart.head()"
      ],
      "execution_count": null,
      "outputs": [
        {
          "output_type": "execute_result",
          "data": {
            "text/html": [
              "<div>\n",
              "<style scoped>\n",
              "    .dataframe tbody tr th:only-of-type {\n",
              "        vertical-align: middle;\n",
              "    }\n",
              "\n",
              "    .dataframe tbody tr th {\n",
              "        vertical-align: top;\n",
              "    }\n",
              "\n",
              "    .dataframe thead th {\n",
              "        text-align: right;\n",
              "    }\n",
              "</style>\n",
              "<table border=\"1\" class=\"dataframe\">\n",
              "  <thead>\n",
              "    <tr style=\"text-align: right;\">\n",
              "      <th></th>\n",
              "      <th>age</th>\n",
              "      <th>anaemia</th>\n",
              "      <th>creatinine_phosphokinase</th>\n",
              "      <th>diabetes</th>\n",
              "      <th>ejection_fraction</th>\n",
              "      <th>high_blood_pressure</th>\n",
              "      <th>platelets</th>\n",
              "      <th>serum_creatinine</th>\n",
              "      <th>serum_sodium</th>\n",
              "      <th>sex</th>\n",
              "      <th>smoking</th>\n",
              "      <th>time</th>\n",
              "      <th>DEATH_EVENT</th>\n",
              "      <th>target</th>\n",
              "    </tr>\n",
              "  </thead>\n",
              "  <tbody>\n",
              "    <tr>\n",
              "      <th>0</th>\n",
              "      <td>75.0</td>\n",
              "      <td>0</td>\n",
              "      <td>582</td>\n",
              "      <td>0</td>\n",
              "      <td>20</td>\n",
              "      <td>1</td>\n",
              "      <td>265000.00</td>\n",
              "      <td>1.9</td>\n",
              "      <td>136.685315</td>\n",
              "      <td>1</td>\n",
              "      <td>0</td>\n",
              "      <td>4.0</td>\n",
              "      <td>1</td>\n",
              "      <td>0</td>\n",
              "    </tr>\n",
              "    <tr>\n",
              "      <th>1</th>\n",
              "      <td>55.0</td>\n",
              "      <td>0</td>\n",
              "      <td>7861</td>\n",
              "      <td>0</td>\n",
              "      <td>38</td>\n",
              "      <td>0</td>\n",
              "      <td>263358.03</td>\n",
              "      <td>1.1</td>\n",
              "      <td>136.000000</td>\n",
              "      <td>1</td>\n",
              "      <td>0</td>\n",
              "      <td>6.0</td>\n",
              "      <td>1</td>\n",
              "      <td>0</td>\n",
              "    </tr>\n",
              "    <tr>\n",
              "      <th>2</th>\n",
              "      <td>65.0</td>\n",
              "      <td>0</td>\n",
              "      <td>146</td>\n",
              "      <td>0</td>\n",
              "      <td>20</td>\n",
              "      <td>0</td>\n",
              "      <td>162000.00</td>\n",
              "      <td>1.3</td>\n",
              "      <td>129.000000</td>\n",
              "      <td>1</td>\n",
              "      <td>1</td>\n",
              "      <td>7.0</td>\n",
              "      <td>1</td>\n",
              "      <td>0</td>\n",
              "    </tr>\n",
              "    <tr>\n",
              "      <th>3</th>\n",
              "      <td>50.0</td>\n",
              "      <td>1</td>\n",
              "      <td>111</td>\n",
              "      <td>0</td>\n",
              "      <td>20</td>\n",
              "      <td>0</td>\n",
              "      <td>210000.00</td>\n",
              "      <td>1.9</td>\n",
              "      <td>137.000000</td>\n",
              "      <td>1</td>\n",
              "      <td>0</td>\n",
              "      <td>7.0</td>\n",
              "      <td>1</td>\n",
              "      <td>0</td>\n",
              "    </tr>\n",
              "    <tr>\n",
              "      <th>4</th>\n",
              "      <td>65.0</td>\n",
              "      <td>1</td>\n",
              "      <td>160</td>\n",
              "      <td>1</td>\n",
              "      <td>20</td>\n",
              "      <td>0</td>\n",
              "      <td>327000.00</td>\n",
              "      <td>2.7</td>\n",
              "      <td>116.000000</td>\n",
              "      <td>0</td>\n",
              "      <td>0</td>\n",
              "      <td>8.0</td>\n",
              "      <td>1</td>\n",
              "      <td>0</td>\n",
              "    </tr>\n",
              "  </tbody>\n",
              "</table>\n",
              "</div>"
            ],
            "text/plain": [
              "    age  anaemia  creatinine_phosphokinase  ...  time  DEATH_EVENT  target\n",
              "0  75.0        0                       582  ...   4.0            1       0\n",
              "1  55.0        0                      7861  ...   6.0            1       0\n",
              "2  65.0        0                       146  ...   7.0            1       0\n",
              "3  50.0        1                       111  ...   7.0            1       0\n",
              "4  65.0        1                       160  ...   8.0            1       0\n",
              "\n",
              "[5 rows x 14 columns]"
            ]
          },
          "metadata": {
            "tags": []
          },
          "execution_count": 80
        }
      ]
    },
    {
      "cell_type": "code",
      "metadata": {
        "id": "FI_OUcKgeiEX"
      },
      "source": [
        "X = heart.drop('high_blood_pressure', axis = 1)\n",
        "y = heart['high_blood_pressure']"
      ],
      "execution_count": null,
      "outputs": []
    },
    {
      "cell_type": "code",
      "metadata": {
        "id": "vSfCiEadf9cj"
      },
      "source": [
        "#Split the data into 80% training and 20% testing\n",
        "X_train, X_test,y_train, y_test=train_test_split(X,y,test_size=0.3,random_state=40)"
      ],
      "execution_count": null,
      "outputs": []
    },
    {
      "cell_type": "code",
      "metadata": {
        "id": "2506raH5jP2z"
      },
      "source": [
        "LR = LogisticRegression().fit(X_train,y_train)"
      ],
      "execution_count": null,
      "outputs": []
    },
    {
      "cell_type": "code",
      "metadata": {
        "colab": {
          "base_uri": "https://localhost:8080/"
        },
        "id": "Wu45bI6UkUCf",
        "outputId": "d50d3668-3aaf-49d6-d7d0-d28a8493be11"
      },
      "source": [
        "#Train the model\n",
        "model = LogisticRegression(max_iter=200)\n",
        "model.fit(X_train, y_train) #Training the model\n",
        "predictions = model.predict(X_test)\n",
        "print(predictions)# printing predictions"
      ],
      "execution_count": null,
      "outputs": [
        {
          "output_type": "stream",
          "text": [
            "[0 0 0 0 0 0 0 0 0 0 0 0 1 0 0 0 0 0 0 0 0 0 0 0 0 0 0 0 0 0 0 0 0 0 0 0 0\n",
            " 0 0 0 0 0 0 0 0 0 0 0 1 0 0 0 0 0 0 0 0 0 0 0 0 0 0 0 0 0 1 0 0 0 0 0 0 0\n",
            " 0 0 0 0 0 0 0 0 0 0 0 0 0 0]\n"
          ],
          "name": "stdout"
        }
      ]
    },
    {
      "cell_type": "code",
      "metadata": {
        "colab": {
          "base_uri": "https://localhost:8080/"
        },
        "id": "fnPhlXiWm4Ym",
        "outputId": "cdd52748-832e-4032-cbcb-a12b3aa9040f"
      },
      "source": [
        "\n",
        "print( model.score(X_train, y_train))\n",
        "score_1 = accuracy_score(y_test, predictions)\n",
        "print (score_1)"
      ],
      "execution_count": null,
      "outputs": [
        {
          "output_type": "stream",
          "text": [
            "0.6372549019607843\n",
            "0.6477272727272727\n"
          ],
          "name": "stdout"
        }
      ]
    },
    {
      "cell_type": "code",
      "metadata": {
        "colab": {
          "base_uri": "https://localhost:8080/"
        },
        "id": "2Xw-58IylV9o",
        "outputId": "f887ef2d-8ebf-4f64-d77e-691f5e99100f"
      },
      "source": [
        "print('X_train-', X_train.size)\n",
        "print('X_test-',X_test.size)\n",
        "print('y_train-', y_train.size)\n",
        "print('y_test-', y_test.size)"
      ],
      "execution_count": null,
      "outputs": [
        {
          "output_type": "stream",
          "text": [
            "X_train- 2652\n",
            "X_test- 1144\n",
            "y_train- 204\n",
            "y_test- 88\n"
          ],
          "name": "stdout"
        }
      ]
    },
    {
      "cell_type": "code",
      "metadata": {
        "id": "SAQTqtj2lb22"
      },
      "source": [
        "from sklearn.linear_model import LogisticRegression\n",
        "lr=LogisticRegression()\n",
        "\n",
        "model1=lr.fit(X_train,y_train)\n",
        "predictions=model1.predict(X_test)"
      ],
      "execution_count": null,
      "outputs": []
    },
    {
      "cell_type": "code",
      "metadata": {
        "colab": {
          "base_uri": "https://localhost:8080/"
        },
        "id": "yJZzlrKppPhl",
        "outputId": "7c0356a5-5d6a-476b-9e9a-2c30e244097e"
      },
      "source": [
        "from sklearn.metrics import classification_report\n",
        "print(classification_report(y_test, predictions))"
      ],
      "execution_count": null,
      "outputs": [
        {
          "output_type": "stream",
          "text": [
            "              precision    recall  f1-score   support\n",
            "\n",
            "           0       0.66      0.97      0.78        58\n",
            "           1       0.33      0.03      0.06        30\n",
            "\n",
            "    accuracy                           0.65        88\n",
            "   macro avg       0.50      0.50      0.42        88\n",
            "weighted avg       0.55      0.65      0.54        88\n",
            "\n"
          ],
          "name": "stdout"
        }
      ]
    },
    {
      "cell_type": "code",
      "metadata": {
        "colab": {
          "base_uri": "https://localhost:8080/",
          "height": 603
        },
        "id": "sf1S1-IVAqjl",
        "outputId": "12eda118-02ac-402c-c335-fff37d3ad861"
      },
      "source": [
        "plt.figure(figsize=(20,10))\n",
        "sns.heatmap(heart.corr(), annot=True, cmap='terrain')"
      ],
      "execution_count": null,
      "outputs": [
        {
          "output_type": "execute_result",
          "data": {
            "text/plain": [
              "<matplotlib.axes._subplots.AxesSubplot at 0x7f093d4cda20>"
            ]
          },
          "metadata": {
            "tags": []
          },
          "execution_count": 153
        },
        {
          "output_type": "display_data",
          "data": {
            "image/png": "[encoded data removed]",
            "text/plain": [
              "<Figure size 1440x720 with 2 Axes>"
            ]
          },
          "metadata": {
            "tags": [],
            "needs_background": "light"
          }
        }
      ]
    },
    {
      "cell_type": "code",
      "metadata": {
        "colab": {
          "base_uri": "https://localhost:8080/"
        },
        "id": "DtCO3kSGiuwq",
        "outputId": "80e25ced-fb8b-4606-8408-d260663e2cd2"
      },
      "source": [
        "from sklearn.tree import DecisionTreeClassifier\n",
        "from sklearn.metrics import accuracy_score\n",
        "\n",
        "from sklearn.model_selection import train_test_split\n",
        "X = heart.iloc[:,1:12]\n",
        "y = heart.iloc[:,12]\n",
        "X_train,X_test,y_train,y_test = train_test_split(X,y,test_size=0.2,random_state=42)\n",
        "clf = DecisionTreeClassifier(criterion='entropy',random_state=1)\n",
        "clf.fit(X_train,y_train)\n",
        "y_pred = clf.predict(X_test)\n",
        "score=accuracy_score(y_test,y_pred)\n",
        "print(score)"
      ],
      "execution_count": null,
      "outputs": [
        {
          "output_type": "stream",
          "text": [
            "0.864406779661017\n"
          ],
          "name": "stdout"
        }
      ]
    },
    {
      "cell_type": "code",
      "metadata": {
        "colab": {
          "base_uri": "https://localhost:8080/",
          "height": 661
        },
        "id": "8YGLJ4ODI-uf",
        "outputId": "c94f46a3-6122-46b0-91f4-02417ba6b345"
      },
      "source": [
        "from sklearn import tree\n",
        "import matplotlib.pyplot as plt\n",
        "fig, axes = plt.subplots(nrows = 1,ncols = 1,figsize = (4,4), dpi=200)\n",
        "tree.plot_tree(clf,\n",
        "               feature_names = X.columns, \n",
        "               class_names=['1','2'],\n",
        "               filled = True);"
      ],
      "execution_count": null,
      "outputs": [
        {
          "output_type": "display_data",
          "data": {
            "image/png": "[encoded data removed]",
            "text/plain": [
              "<Figure size 800x800 with 1 Axes>"
            ]
          },
          "metadata": {
            "tags": [],
            "needs_background": "light"
          }
        }
      ]
    },
    {
      "cell_type": "code",
      "metadata": {
        "colab": {
          "base_uri": "https://localhost:8080/",
          "height": 695
        },
        "id": "ZxYWU7bWL1aD",
        "outputId": "31b31635-8d86-4dd9-de41-a4c0111e8b61"
      },
      "source": [
        "import seaborn as sns\n",
        "co = heart.corr() \n",
        "print(co)\n",
        "sns.heatmap(co)"
      ],
      "execution_count": null,
      "outputs": [
        {
          "output_type": "stream",
          "text": [
            "                               age   anaemia  ...  DEATH_EVENT  target\n",
            "age                       1.000000  0.090419  ...     0.257126     NaN\n",
            "anaemia                   0.090419  1.000000  ...     0.059136     NaN\n",
            "creatinine_phosphokinase -0.084603 -0.187515  ...     0.063287     NaN\n",
            "diabetes                 -0.110183 -0.007090  ...    -0.005065     NaN\n",
            "ejection_fraction         0.058501  0.037690  ...    -0.263698     NaN\n",
            "high_blood_pressure       0.082202  0.022499  ...     0.068684     NaN\n",
            "platelets                -0.063488 -0.054290  ...    -0.070449     NaN\n",
            "serum_creatinine          0.153511  0.053571  ...     0.296866     NaN\n",
            "serum_sodium             -0.033761  0.034118  ...    -0.182195     NaN\n",
            "sex                       0.069737 -0.088416  ...     0.012756     NaN\n",
            "smoking                   0.022816 -0.111909  ...    -0.024754     NaN\n",
            "time                     -0.216149 -0.132538  ...    -0.526475     NaN\n",
            "DEATH_EVENT               0.257126  0.059136  ...     1.000000     NaN\n",
            "target                         NaN       NaN  ...          NaN     NaN\n",
            "\n",
            "[14 rows x 14 columns]\n"
          ],
          "name": "stdout"
        },
        {
          "output_type": "execute_result",
          "data": {
            "text/plain": [
              "<matplotlib.axes._subplots.AxesSubplot at 0x7efeb26c0940>"
            ]
          },
          "metadata": {
            "tags": []
          },
          "execution_count": 24
        },
        {
          "output_type": "display_data",
          "data": {
            "image/png": "[encoded data removed]",
            "text/plain": [
              "<Figure size 432x288 with 2 Axes>"
            ]
          },
          "metadata": {
            "tags": [],
            "needs_background": "light"
          }
        }
      ]
    },
    {
      "cell_type": "code",
      "metadata": {
        "colab": {
          "base_uri": "https://localhost:8080/",
          "height": 336
        },
        "id": "OLPKxyymY4jw",
        "outputId": "17ee2fa3-27eb-4410-ace0-f4cb75601e5c"
      },
      "source": [
        "import matplotlib.pyplot as plt\n",
        "fig = plt.figure()\n",
        "\n",
        "width = 0.55\n",
        "ax = fig.add_axes([0,0,1,1])\n",
        "label = ['Logistic recursion', 'Recursive Tree']\n",
        "percentage = [score_1, score]\n",
        "ax.bar(label, percentage)\n",
        "\n",
        "plt.show()"
      ],
      "execution_count": null,
      "outputs": [
        {
          "output_type": "display_data",
          "data": {
            "image/png": "[encoded data removed]",
            "text/plain": [
              "<Figure size 432x288 with 1 Axes>"
            ]
          },
          "metadata": {
            "tags": [],
            "needs_background": "light"
          }
        }
      ]
    },
    {
      "cell_type": "code",
      "metadata": {
        "colab": {
          "base_uri": "https://localhost:8080/"
        },
        "id": "rUv0UZv4jbvz",
        "outputId": "c8ea9333-55db-433a-f63d-f327b910a84a"
      },
      "source": [
        "pip install -U scikit-learn"
      ],
      "execution_count": null,
      "outputs": [
        {
          "output_type": "stream",
          "text": [
            "Requirement already up-to-date: scikit-learn in /usr/local/lib/python3.6/dist-packages (0.24.0)\n",
            "Requirement already satisfied, skipping upgrade: joblib>=0.11 in /usr/local/lib/python3.6/dist-packages (from scikit-learn) (1.0.0)\n",
            "Requirement already satisfied, skipping upgrade: scipy>=0.19.1 in /usr/local/lib/python3.6/dist-packages (from scikit-learn) (1.4.1)\n",
            "Requirement already satisfied, skipping upgrade: numpy>=1.13.3 in /usr/local/lib/python3.6/dist-packages (from scikit-learn) (1.19.4)\n",
            "Requirement already satisfied, skipping upgrade: threadpoolctl>=2.0.0 in /usr/local/lib/python3.6/dist-packages (from scikit-learn) (2.1.0)\n"
          ],
          "name": "stdout"
        }
      ]
    },
    {
      "cell_type": "code",
      "metadata": {
        "colab": {
          "base_uri": "https://localhost:8080/"
        },
        "id": "surNkkh8pIOT",
        "outputId": "7f5de7ff-cbbb-4ba5-c7e7-86dbfa2bf184"
      },
      "source": [
        "!python -m pip show scikit-learn "
      ],
      "execution_count": null,
      "outputs": [
        {
          "output_type": "stream",
          "text": [
            "Name: scikit-learn\n",
            "Version: 0.24.0\n",
            "Summary: A set of python modules for machine learning and data mining\n",
            "Home-page: http://scikit-learn.org\n",
            "Author: None\n",
            "Author-email: None\n",
            "License: new BSD\n",
            "Location: /usr/local/lib/python3.6/dist-packages\n",
            "Requires: scipy, numpy, threadpoolctl, joblib\n",
            "Required-by: yellowbrick, umap-learn, textgenrnn, sklearn, sklearn-pandas, mlxtend, lucid, lightgbm, librosa, imbalanced-learn, fancyimpute\n"
          ],
          "name": "stdout"
        }
      ]
    },
    {
      "cell_type": "code",
      "metadata": {
        "colab": {
          "base_uri": "https://localhost:8080/"
        },
        "id": "VReCD-VBpemW",
        "outputId": "42297a95-44b4-4b60-9411-7a72a0ff0882"
      },
      "source": [
        "heart.keys()"
      ],
      "execution_count": null,
      "outputs": [
        {
          "output_type": "execute_result",
          "data": {
            "text/plain": [
              "Index(['age', 'anaemia', 'creatinine_phosphokinase', 'diabetes',\n",
              "       'ejection_fraction', 'high_blood_pressure', 'platelets',\n",
              "       'serum_creatinine', 'serum_sodium', 'sex', 'smoking', 'time',\n",
              "       'DEATH_EVENT', 'target'],\n",
              "      dtype='object')"
            ]
          },
          "metadata": {
            "tags": []
          },
          "execution_count": 29
        }
      ]
    },
    {
      "cell_type": "code",
      "metadata": {
        "id": "HWF_cKT_tvBu"
      },
      "source": [
        "heart[\"class\"]=heart[\"DEATH_EVENT\"]"
      ],
      "execution_count": null,
      "outputs": []
    },
    {
      "cell_type": "code",
      "metadata": {
        "colab": {
          "base_uri": "https://localhost:8080/",
          "height": 224
        },
        "id": "zxqrpgi45LYn",
        "outputId": "5d6b7ddd-b95a-4991-8f42-1adaeca109f7"
      },
      "source": [
        "heart.head()"
      ],
      "execution_count": null,
      "outputs": [
        {
          "output_type": "execute_result",
          "data": {
            "text/html": [
              "<div>\n",
              "<style scoped>\n",
              "    .dataframe tbody tr th:only-of-type {\n",
              "        vertical-align: middle;\n",
              "    }\n",
              "\n",
              "    .dataframe tbody tr th {\n",
              "        vertical-align: top;\n",
              "    }\n",
              "\n",
              "    .dataframe thead th {\n",
              "        text-align: right;\n",
              "    }\n",
              "</style>\n",
              "<table border=\"1\" class=\"dataframe\">\n",
              "  <thead>\n",
              "    <tr style=\"text-align: right;\">\n",
              "      <th></th>\n",
              "      <th>age</th>\n",
              "      <th>anaemia</th>\n",
              "      <th>creatinine_phosphokinase</th>\n",
              "      <th>diabetes</th>\n",
              "      <th>ejection_fraction</th>\n",
              "      <th>high_blood_pressure</th>\n",
              "      <th>platelets</th>\n",
              "      <th>serum_creatinine</th>\n",
              "      <th>serum_sodium</th>\n",
              "      <th>sex</th>\n",
              "      <th>smoking</th>\n",
              "      <th>time</th>\n",
              "      <th>DEATH_EVENT</th>\n",
              "      <th>target</th>\n",
              "      <th>class</th>\n",
              "    </tr>\n",
              "  </thead>\n",
              "  <tbody>\n",
              "    <tr>\n",
              "      <th>0</th>\n",
              "      <td>75.0</td>\n",
              "      <td>0</td>\n",
              "      <td>582</td>\n",
              "      <td>0</td>\n",
              "      <td>20</td>\n",
              "      <td>1</td>\n",
              "      <td>265000.00</td>\n",
              "      <td>1.9</td>\n",
              "      <td>136.685315</td>\n",
              "      <td>1</td>\n",
              "      <td>0</td>\n",
              "      <td>4.0</td>\n",
              "      <td>1</td>\n",
              "      <td>0</td>\n",
              "      <td>1</td>\n",
              "    </tr>\n",
              "    <tr>\n",
              "      <th>1</th>\n",
              "      <td>55.0</td>\n",
              "      <td>0</td>\n",
              "      <td>7861</td>\n",
              "      <td>0</td>\n",
              "      <td>38</td>\n",
              "      <td>0</td>\n",
              "      <td>263358.03</td>\n",
              "      <td>1.1</td>\n",
              "      <td>136.000000</td>\n",
              "      <td>1</td>\n",
              "      <td>0</td>\n",
              "      <td>6.0</td>\n",
              "      <td>1</td>\n",
              "      <td>0</td>\n",
              "      <td>1</td>\n",
              "    </tr>\n",
              "    <tr>\n",
              "      <th>2</th>\n",
              "      <td>65.0</td>\n",
              "      <td>0</td>\n",
              "      <td>146</td>\n",
              "      <td>0</td>\n",
              "      <td>20</td>\n",
              "      <td>0</td>\n",
              "      <td>162000.00</td>\n",
              "      <td>1.3</td>\n",
              "      <td>129.000000</td>\n",
              "      <td>1</td>\n",
              "      <td>1</td>\n",
              "      <td>7.0</td>\n",
              "      <td>1</td>\n",
              "      <td>0</td>\n",
              "      <td>1</td>\n",
              "    </tr>\n",
              "    <tr>\n",
              "      <th>3</th>\n",
              "      <td>50.0</td>\n",
              "      <td>1</td>\n",
              "      <td>111</td>\n",
              "      <td>0</td>\n",
              "      <td>20</td>\n",
              "      <td>0</td>\n",
              "      <td>210000.00</td>\n",
              "      <td>1.9</td>\n",
              "      <td>137.000000</td>\n",
              "      <td>1</td>\n",
              "      <td>0</td>\n",
              "      <td>7.0</td>\n",
              "      <td>1</td>\n",
              "      <td>0</td>\n",
              "      <td>1</td>\n",
              "    </tr>\n",
              "    <tr>\n",
              "      <th>4</th>\n",
              "      <td>65.0</td>\n",
              "      <td>1</td>\n",
              "      <td>160</td>\n",
              "      <td>1</td>\n",
              "      <td>20</td>\n",
              "      <td>0</td>\n",
              "      <td>327000.00</td>\n",
              "      <td>2.7</td>\n",
              "      <td>116.000000</td>\n",
              "      <td>0</td>\n",
              "      <td>0</td>\n",
              "      <td>8.0</td>\n",
              "      <td>1</td>\n",
              "      <td>0</td>\n",
              "      <td>1</td>\n",
              "    </tr>\n",
              "  </tbody>\n",
              "</table>\n",
              "</div>"
            ],
            "text/plain": [
              "    age  anaemia  creatinine_phosphokinase  ...  DEATH_EVENT  target  class\n",
              "0  75.0        0                       582  ...            1       0      1\n",
              "1  55.0        0                      7861  ...            1       0      1\n",
              "2  65.0        0                       146  ...            1       0      1\n",
              "3  50.0        1                       111  ...            1       0      1\n",
              "4  65.0        1                       160  ...            1       0      1\n",
              "\n",
              "[5 rows x 15 columns]"
            ]
          },
          "metadata": {
            "tags": []
          },
          "execution_count": 31
        }
      ]
    },
    {
      "cell_type": "code",
      "metadata": {
        "colab": {
          "base_uri": "https://localhost:8080/",
          "height": 1000
        },
        "id": "vK0blty55dmf",
        "outputId": "271c3b62-ce40-4b68-b0fd-6518f909af00"
      },
      "source": [
        "from pandas.plotting import scatter_matrix\n",
        "scatter_matrix(heart[['anaemia', 'diabetes',  'high_blood_pressure', 'platelets','smoking']], c=heart[\"class\"] , figsize=(12,12), alpha=1)"
      ],
      "execution_count": null,
      "outputs": [
        {
          "output_type": "execute_result",
          "data": {
            "text/plain": [
              "array([[<matplotlib.axes._subplots.AxesSubplot object at 0x7efeaed405f8>,\n",
              "        <matplotlib.axes._subplots.AxesSubplot object at 0x7efeae6be860>,\n",
              "        <matplotlib.axes._subplots.AxesSubplot object at 0x7efeae673ac8>,\n",
              "        <matplotlib.axes._subplots.AxesSubplot object at 0x7efeae625d30>,\n",
              "        <matplotlib.axes._subplots.AxesSubplot object at 0x7efeae5ddf98>],\n",
              "       [<matplotlib.axes._subplots.AxesSubplot object at 0x7efeae59b240>,\n",
              "        <matplotlib.axes._subplots.AxesSubplot object at 0x7efeae5ce4a8>,\n",
              "        <matplotlib.axes._subplots.AxesSubplot object at 0x7efeae5826d8>,\n",
              "        <matplotlib.axes._subplots.AxesSubplot object at 0x7efeae582748>,\n",
              "        <matplotlib.axes._subplots.AxesSubplot object at 0x7efeae4e8be0>],\n",
              "       [<matplotlib.axes._subplots.AxesSubplot object at 0x7efeae49fe48>,\n",
              "        <matplotlib.axes._subplots.AxesSubplot object at 0x7efeae4600f0>,\n",
              "        <matplotlib.axes._subplots.AxesSubplot object at 0x7efeae493358>,\n",
              "        <matplotlib.axes._subplots.AxesSubplot object at 0x7efeae4465c0>,\n",
              "        <matplotlib.axes._subplots.AxesSubplot object at 0x7efeae3f9828>],\n",
              "       [<matplotlib.axes._subplots.AxesSubplot object at 0x7efeae3aea90>,\n",
              "        <matplotlib.axes._subplots.AxesSubplot object at 0x7efeae362cf8>,\n",
              "        <matplotlib.axes._subplots.AxesSubplot object at 0x7efeae318f60>,\n",
              "        <matplotlib.axes._subplots.AxesSubplot object at 0x7efeae2d8208>,\n",
              "        <matplotlib.axes._subplots.AxesSubplot object at 0x7efeae30c470>],\n",
              "       [<matplotlib.axes._subplots.AxesSubplot object at 0x7efeae2be6d8>,\n",
              "        <matplotlib.axes._subplots.AxesSubplot object at 0x7efeae272940>,\n",
              "        <matplotlib.axes._subplots.AxesSubplot object at 0x7efeae228ba8>,\n",
              "        <matplotlib.axes._subplots.AxesSubplot object at 0x7efeae1dce10>,\n",
              "        <matplotlib.axes._subplots.AxesSubplot object at 0x7efeae19c0b8>]],\n",
              "      dtype=object)"
            ]
          },
          "metadata": {
            "tags": []
          },
          "execution_count": 32
        },
        {
          "output_type": "display_data",
          "data": {
            "image/png": "[encoded data removed]",
            "text/plain": [
              "<Figure size 864x864 with 25 Axes>"
            ]
          },
          "metadata": {
            "tags": [],
            "needs_background": "light"
          }
        }
      ]
    },
    {
      "cell_type": "code",
      "metadata": {
        "id": "dMGAjdxWEvNz"
      },
      "source": [
        "# X label data\n",
        "X = heart.drop(\"high_blood_pressure\", axis=1)\n",
        "y= heart[\"high_blood_pressure\"]"
      ],
      "execution_count": null,
      "outputs": []
    },
    {
      "cell_type": "code",
      "metadata": {
        "id": "_UYWnVnYFNke"
      },
      "source": [
        "#Lets split the data\n",
        "from sklearn.model_selection import train_test_split\n",
        "X_train, X_test,y_train, y_test=train_test_split(X,y,test_size=0.3,random_state=40)"
      ],
      "execution_count": null,
      "outputs": []
    },
    {
      "cell_type": "code",
      "metadata": {
        "colab": {
          "base_uri": "https://localhost:8080/"
        },
        "id": "hO1CsjDiFRBt",
        "outputId": "acfe6a70-69a6-4b4a-f995-212aec2ac229"
      },
      "source": [
        "print(\"Training set: x->{} , y->{} \\n Testing set: x->{} , y->{}\".format(X_train.shape, y_train.shape, X_test.shape, y_test.shape))"
      ],
      "execution_count": null,
      "outputs": [
        {
          "output_type": "stream",
          "text": [
            "Training set: x->(204, 14) , y->(204,) \n",
            " Testing set: x->(88, 14) , y->(88,)\n"
          ],
          "name": "stdout"
        }
      ]
    },
    {
      "cell_type": "code",
      "metadata": {
        "colab": {
          "base_uri": "https://localhost:8080/"
        },
        "id": "uI3b2zsGkmvl",
        "outputId": "ec955941-0d6b-418d-c377-69dab049d62a"
      },
      "source": [
        "from sklearn.svm import SVC\n",
        "from sklearn.metrics import accuracy_score\n",
        "\n",
        "from sklearn.model_selection import train_test_split \n",
        "\n",
        "X_train,X_test,y_train,y_test = train_test_split(X,y,test_size=0.2 , random_state=10   )\n",
        "svc = SVC(kernel='linear')\n",
        "svc.fit(X_train, y_train)\n",
        "y_pred = svc.predict(X_test)\n",
        "preSVM=accuracy_score(y_pred,y_test)\n",
        "preSVMTrain=svc.score(X_train, y_train)\n",
        "preSVMTest=svc.score(X_test , y_test)\n",
        "print(\"Training accuracy\" , preSVMTrain)\n",
        "print(\"Testing accuracy\" , preSVMTest)\n",
        "print(preSVM)"
      ],
      "execution_count": null,
      "outputs": [
        {
          "output_type": "stream",
          "text": [
            "Training accuracy 0.6008583690987125\n",
            "Testing accuracy 0.6440677966101694\n",
            "0.6440677966101694\n"
          ],
          "name": "stdout"
        }
      ]
    },
    {
      "cell_type": "code",
      "metadata": {
        "id": "dSf1NvGvGo3Y"
      },
      "source": [
        "from sklearn.naive_bayes import GaussianNB\n",
        "gnb = GaussianNB()\n",
        "#gnb.fit(X_train, y_train)"
      ],
      "execution_count": null,
      "outputs": []
    },
    {
      "cell_type": "code",
      "metadata": {
        "colab": {
          "base_uri": "https://localhost:8080/"
        },
        "id": "vblOSi-RJTgh",
        "outputId": "02ac0165-6b2c-4339-c383-edf9ee643f95"
      },
      "source": [
        "print(\"Training accuracy of the model is {:.2f}\".format(gnb.score(X_train, y_train)))\n",
        "print(\"Testing accuracy of the model is {:.2f}\".format(gnb.score(X_test, y_test)))"
      ],
      "execution_count": null,
      "outputs": [
        {
          "output_type": "stream",
          "text": [
            "Training accuracy of the model is 0.63\n",
            "Testing accuracy of the model is 0.58\n"
          ],
          "name": "stdout"
        }
      ]
    },
    {
      "cell_type": "code",
      "metadata": {
        "colab": {
          "base_uri": "https://localhost:8080/"
        },
        "id": "5e7j7ue9JVoS",
        "outputId": "2628f88b-f847-41c9-bdfd-40847d75d671"
      },
      "source": [
        "predictions = gnb.predict(X_test)\n",
        "print(predictions)"
      ],
      "execution_count": null,
      "outputs": [
        {
          "output_type": "stream",
          "text": [
            "[0 1 0 0 1 0 0 1 0 0 0 0 1 0 0 0 0 0 0 1 1 0 0 0 0 0 1 0 1 1 0 0 0 0 0 0 0\n",
            " 0 1 0 1 0 0 1 0 1 0 0 0 0 0 0 1 0 0 0 0 1 0 0 1 0 1 1 0 1 0 1 1 1 0 1 0 0\n",
            " 1 1 1 0 1 0 0 0 0 0 0 1 1 0]\n"
          ],
          "name": "stdout"
        }
      ]
    },
    {
      "cell_type": "code",
      "metadata": {
        "colab": {
          "base_uri": "https://localhost:8080/"
        },
        "id": "m0XFZ2YEJZZw",
        "outputId": "a456994d-3b12-4e16-b0a8-1165eb71ca05"
      },
      "source": [
        "from sklearn.metrics import confusion_matrix\n",
        "mat=confusion_matrix(predictions, y_test)\n",
        "print(mat)"
      ],
      "execution_count": null,
      "outputs": [
        {
          "output_type": "stream",
          "text": [
            "[[56 29]\n",
            " [ 2  1]]\n"
          ],
          "name": "stdout"
        }
      ]
    },
    {
      "cell_type": "code",
      "metadata": {
        "colab": {
          "base_uri": "https://localhost:8080/",
          "height": 283
        },
        "id": "cyaWmZdKJqSV",
        "outputId": "87540d86-8680-4274-a6f8-bd02b55808af"
      },
      "source": [
        "from seaborn import heatmap\n",
        "heatmap(mat , cmap=\"Pastel1_r\",xticklabels=['class_0' ,'class_1'], yticklabels=['class_0' ,'class_1'], annot=True)"
      ],
      "execution_count": null,
      "outputs": [
        {
          "output_type": "execute_result",
          "data": {
            "text/plain": [
              "<matplotlib.axes._subplots.AxesSubplot at 0x7efeadf0fb70>"
            ]
          },
          "metadata": {
            "tags": []
          },
          "execution_count": 56
        },
        {
          "output_type": "display_data",
          "data": {
            "image/png": "[encoded data removed]",
            "text/plain": [
              "<Figure size 432x288 with 2 Axes>"
            ]
          },
          "metadata": {
            "tags": [],
            "needs_background": "light"
          }
        }
      ]
    },
    {
      "cell_type": "code",
      "metadata": {
        "colab": {
          "base_uri": "https://localhost:8080/"
        },
        "id": "A0GEE7HYK6ah",
        "outputId": "58c7f2af-04c7-4d39-8749-5b12c6c626f7"
      },
      "source": [
        "from sklearn.svm import SVC\n",
        "svc = SVC(kernel=\"linear\")\n",
        "svc.fit(X_train, y_train)"
      ],
      "execution_count": null,
      "outputs": [
        {
          "output_type": "execute_result",
          "data": {
            "text/plain": [
              "SVC(C=1.0, break_ties=False, cache_size=200, class_weight=None, coef0=0.0,\n",
              "    decision_function_shape='ovr', degree=3, gamma='scale', kernel='linear',\n",
              "    max_iter=-1, probability=False, random_state=None, shrinking=True,\n",
              "    tol=0.001, verbose=False)"
            ]
          },
          "metadata": {
            "tags": []
          },
          "execution_count": 57
        }
      ]
    },
    {
      "cell_type": "code",
      "metadata": {
        "colab": {
          "base_uri": "https://localhost:8080/"
        },
        "id": "oJZVULG2LIzJ",
        "outputId": "6f956932-f860-4ed9-b3a9-ba154750384d"
      },
      "source": [
        "print(\"Training accuracy of the model is {:.2f}\".format(svc.score(X_train, y_train)))\n",
        "print(\"Testing accuracy of the model is {:.2f}\".format(svc.score(X_test, y_test)))"
      ],
      "execution_count": null,
      "outputs": [
        {
          "output_type": "stream",
          "text": [
            "Training accuracy of the model is 0.63\n",
            "Testing accuracy of the model is 0.68\n"
          ],
          "name": "stdout"
        }
      ]
    },
    {
      "cell_type": "code",
      "metadata": {
        "id": "7g8Ajyrblh_W"
      },
      "source": [
        ""
      ],
      "execution_count": null,
      "outputs": []
    },
    {
      "cell_type": "code",
      "metadata": {
        "colab": {
          "base_uri": "https://localhost:8080/"
        },
        "id": "nh5xDBv6LKey",
        "outputId": "98d55db9-7d0f-4029-9bbe-c27ff360af96"
      },
      "source": [
        "predictions = svc.predict(X_test)\n",
        "print(predictions)"
      ],
      "execution_count": null,
      "outputs": [
        {
          "output_type": "stream",
          "text": [
            "[0 1 0 0 0 0 0 1 0 0 0 1 0 0 0 0 0 0 0 0 0 0 0 0 0 0 0 0 1 1 0 0 0 0 0 0 0\n",
            " 0 0 0 0 0 1 0 1 0 0 0 0 0 0 0 0 0 0 0 1 0 0 0 0 0 1 0 0 0 0 0 0 0 0 1 0 0\n",
            " 0 0 0 1 0 0 0 0 0 0 0 0 0 1]\n"
          ],
          "name": "stdout"
        }
      ]
    },
    {
      "cell_type": "code",
      "metadata": {
        "colab": {
          "base_uri": "https://localhost:8080/"
        },
        "id": "SYwZ8nVULQyh",
        "outputId": "1fe5d6b7-094c-4bc1-f807-3bf97ac96f84"
      },
      "source": [
        "from sklearn.metrics import confusion_matrix\n",
        "mat=confusion_matrix(predictions, y_test)\n",
        "print(mat)"
      ],
      "execution_count": null,
      "outputs": [
        {
          "output_type": "stream",
          "text": [
            "[[53 23]\n",
            " [ 5  7]]\n"
          ],
          "name": "stdout"
        }
      ]
    },
    {
      "cell_type": "code",
      "metadata": {
        "colab": {
          "base_uri": "https://localhost:8080/",
          "height": 282
        },
        "id": "NQ60nXjjLWl5",
        "outputId": "d2950654-4594-4856-d1c5-aff692cfa008"
      },
      "source": [
        "from seaborn import heatmap\n",
        "heatmap(mat , cmap=\"Pastel1_r\", annot=True)"
      ],
      "execution_count": null,
      "outputs": [
        {
          "output_type": "execute_result",
          "data": {
            "text/plain": [
              "<matplotlib.axes._subplots.AxesSubplot at 0x7efeae6bef98>"
            ]
          },
          "metadata": {
            "tags": []
          },
          "execution_count": 63
        },
        {
          "output_type": "display_data",
          "data": {
            "image/png": "[encoded data removed]",
            "text/plain": [
              "<Figure size 432x288 with 2 Axes>"
            ]
          },
          "metadata": {
            "tags": [],
            "needs_background": "light"
          }
        }
      ]
    },
    {
      "cell_type": "code",
      "metadata": {
        "id": "bXig0KY4nort"
      },
      "source": [
        "from sklearn.ensemble import RandomForestClassifier\n",
        "rfc = RandomForestClassifier(n_estimators=50)\n",
        "rfc.fit(X_train, y_train)"
      ],
      "execution_count": null,
      "outputs": []
    },
    {
      "cell_type": "code",
      "metadata": {
        "colab": {
          "base_uri": "https://localhost:8080/"
        },
        "id": "hsT6J2dPLe1s",
        "outputId": "4c4266a8-578b-433c-9ff9-070ad11a7d5a"
      },
      "source": [
        "print(\"The Training accuracy of the model is {:.2f}\".format(rfc.score(X_train, y_train)))\n",
        "print(\"The Testing accuracy of the model is {:.2f}\".format(rfc.score(X_test, y_test)))"
      ],
      "execution_count": null,
      "outputs": [
        {
          "output_type": "stream",
          "text": [
            "The Training accuracy of the model is 1.00\n",
            "The Testing accuracy of the model is 0.68\n"
          ],
          "name": "stdout"
        }
      ]
    },
    {
      "cell_type": "code",
      "metadata": {
        "id": "sEUEfbkKL8zI"
      },
      "source": [
        "predictions = rfc.predict(X_test)"
      ],
      "execution_count": null,
      "outputs": []
    },
    {
      "cell_type": "code",
      "metadata": {
        "colab": {
          "base_uri": "https://localhost:8080/"
        },
        "id": "CVF9tv8FSRkA",
        "outputId": "4ecaeb05-160f-4e74-9c68-7ccef2d9034b"
      },
      "source": [
        "from sklearn.metrics import confusion_matrix\n",
        "mat=confusion_matrix(predictions, y_test)\n",
        "print(mat)"
      ],
      "execution_count": null,
      "outputs": [
        {
          "output_type": "stream",
          "text": [
            "[[51 21]\n",
            " [ 7  9]]\n"
          ],
          "name": "stdout"
        }
      ]
    },
    {
      "cell_type": "code",
      "metadata": {
        "colab": {
          "base_uri": "https://localhost:8080/",
          "height": 282
        },
        "id": "5Pwnem89MGI2",
        "outputId": "ba2038a2-04ff-4773-87cd-c89bdbd789ba"
      },
      "source": [
        "from seaborn import heatmap\n",
        "heatmap(mat , cmap=\"Pastel1_r\",  annot=True)"
      ],
      "execution_count": null,
      "outputs": [
        {
          "output_type": "execute_result",
          "data": {
            "text/plain": [
              "<matplotlib.axes._subplots.AxesSubplot at 0x7f093bce1978>"
            ]
          },
          "metadata": {
            "tags": []
          },
          "execution_count": 349
        },
        {
          "output_type": "display_data",
          "data": {
            "image/png": "[encoded data removed]",
            "text/plain": [
              "<Figure size 432x288 with 2 Axes>"
            ]
          },
          "metadata": {
            "tags": [],
            "needs_background": "light"
          }
        }
      ]
    },
    {
      "cell_type": "code",
      "metadata": {
        "id": "-TbIBPPVMJrh"
      },
      "source": [
        "from sklearn.neural_network import MLPClassifier\n",
        "nnc=MLPClassifier(hidden_layer_sizes=(12), activation=\"relu\", max_iter=10000000000)"
      ],
      "execution_count": null,
      "outputs": []
    },
    {
      "cell_type": "code",
      "metadata": {
        "colab": {
          "base_uri": "https://localhost:8080/"
        },
        "id": "LNpztLLBMtKZ",
        "outputId": "a3ff32f5-60be-433d-ebd4-5958ed724466"
      },
      "source": [
        "print(\"The Training accuracy of the model is {:.2f}\".format(nnc.score(X_train, y_train)))\n",
        "print(\"The Testing accuracy of the model is {:.2f}\".format(nnc.score(X_test, y_test)))"
      ],
      "execution_count": null,
      "outputs": [
        {
          "output_type": "stream",
          "text": [
            "The Training accuracy of the model is 0.36\n",
            "The Testing accuracy of the model is 0.34\n"
          ],
          "name": "stdout"
        }
      ]
    },
    {
      "cell_type": "code",
      "metadata": {
        "colab": {
          "base_uri": "https://localhost:8080/"
        },
        "id": "mYIZKmCISim3",
        "outputId": "53ff9ce3-d010-44b4-a9c3-66848a818f57"
      },
      "source": [
        "predictions = nnc.predict(X_test)\n",
        "print(predictions)"
      ],
      "execution_count": null,
      "outputs": [
        {
          "output_type": "stream",
          "text": [
            "[1 1 1 1 1 1 1 1 1 1 1 1 1 1 1 1 1 1 1 1 1 1 1 1 1 1 1 1 1 1 1 1 1 1 1 1 1\n",
            " 1 1 1 1 1 1 1 1 1 1 1 1 1 1 1 1 1 1 1 1 1 1 1 1 1 1 1 1 1 1 1 1 1 1 1 1 1\n",
            " 1 1 1 1 1 1 1 1 1 1 1 1 1 1]\n"
          ],
          "name": "stdout"
        }
      ]
    },
    {
      "cell_type": "code",
      "metadata": {
        "colab": {
          "base_uri": "https://localhost:8080/"
        },
        "id": "3yW14HFfNPb7",
        "outputId": "34107668-711e-47e0-8b49-9a9218d0718c"
      },
      "source": [
        "from sklearn.metrics import confusion_matrix\n",
        "mat=confusion_matrix(predictions, y_test)\n",
        "print(mat)"
      ],
      "execution_count": null,
      "outputs": [
        {
          "output_type": "stream",
          "text": [
            "[[ 0  0]\n",
            " [58 30]]\n"
          ],
          "name": "stdout"
        }
      ]
    },
    {
      "cell_type": "code",
      "metadata": {
        "colab": {
          "base_uri": "https://localhost:8080/",
          "height": 282
        },
        "id": "HHSZGlNWNRJ6",
        "outputId": "561fcd12-98c0-4e17-d0bb-2d891ec99154"
      },
      "source": [
        "from seaborn import heatmap\n",
        "heatmap(mat , cmap=\"Pastel1_r\", annot=True)"
      ],
      "execution_count": null,
      "outputs": [
        {
          "output_type": "execute_result",
          "data": {
            "text/plain": [
              "<matplotlib.axes._subplots.AxesSubplot at 0x7f093c78c2b0>"
            ]
          },
          "metadata": {
            "tags": []
          },
          "execution_count": 207
        },
        {
          "output_type": "display_data",
          "data": {
            "image/png": "[encoded data removed]",
            "text/plain": [
              "<Figure size 432x288 with 2 Axes>"
            ]
          },
          "metadata": {
            "tags": [],
            "needs_background": "light"
          }
        }
      ]
    },
    {
      "cell_type": "code",
      "metadata": {
        "colab": {
          "base_uri": "https://localhost:8080/"
        },
        "id": "gnWKSyYrQN7R",
        "outputId": "2e6a8c2e-849f-4c08-a631-6fdce1749da2"
      },
      "source": [
        "from sklearn.svm import LinearSVC\n",
        "svc = LinearSVC(random_state=0, tol=1e-5)\n",
        "svc.fit(X_train, y_train) "
      ],
      "execution_count": null,
      "outputs": [
        {
          "output_type": "stream",
          "text": [
            "/usr/local/lib/python3.6/dist-packages/sklearn/svm/_base.py:986: ConvergenceWarning: Liblinear failed to converge, increase the number of iterations.\n",
            "  \"the number of iterations.\", ConvergenceWarning)\n"
          ],
          "name": "stderr"
        },
        {
          "output_type": "execute_result",
          "data": {
            "text/plain": [
              "LinearSVC(random_state=0, tol=1e-05)"
            ]
          },
          "metadata": {
            "tags": []
          },
          "execution_count": 356
        }
      ]
    },
    {
      "cell_type": "code",
      "metadata": {
        "colab": {
          "base_uri": "https://localhost:8080/"
        },
        "id": "6ngSgByQS1kQ",
        "outputId": "dc1fb2e9-9494-4773-989b-51153e163480"
      },
      "source": [
        "from sklearn.neighbors import KNeighborsClassifier\n",
        "knn=KNeighborsClassifier(n_neighbors=4)\n",
        "knn.fit(X_train, y_train)"
      ],
      "execution_count": null,
      "outputs": [
        {
          "output_type": "execute_result",
          "data": {
            "text/plain": [
              "KNeighborsClassifier(n_neighbors=4)"
            ]
          },
          "metadata": {
            "tags": []
          },
          "execution_count": 357
        }
      ]
    },
    {
      "cell_type": "code",
      "metadata": {
        "colab": {
          "base_uri": "https://localhost:8080/"
        },
        "id": "Rg_-2bRfS9I2",
        "outputId": "de0f8245-4b59-4dc9-e717-6d104476bb0b"
      },
      "source": [
        "# Performance of the KNN model when no dimensions are reduced\n",
        "print(\"Training accuracy is {:.2f}\".format(knn.score(X_train, y_train)) )\n",
        "print(\"Testing accuracy is {:.2f} \".format(knn.score(X_test, y_test)) )"
      ],
      "execution_count": null,
      "outputs": [
        {
          "output_type": "stream",
          "text": [
            "Training accuracy is 0.74\n",
            "Testing accuracy is 0.64 \n"
          ],
          "name": "stdout"
        }
      ]
    },
    {
      "cell_type": "code",
      "metadata": {
        "id": "vRBc54gLTCk-"
      },
      "source": [
        "from sklearn.preprocessing import StandardScaler\n",
        "scaler= StandardScaler()"
      ],
      "execution_count": null,
      "outputs": []
    },
    {
      "cell_type": "code",
      "metadata": {
        "id": "Oa-ZXh_lTEO9"
      },
      "source": [
        "from sklearn.decomposition import PCA \n",
        "pca = PCA(n_components=7)"
      ],
      "execution_count": null,
      "outputs": []
    },
    {
      "cell_type": "code",
      "metadata": {
        "colab": {
          "base_uri": "https://localhost:8080/"
        },
        "id": "yGmPy-bnTH0u",
        "outputId": "e43317d4-a8c7-4bee-db45-4844d8899d13"
      },
      "source": [
        "principal_components= pca.fit_transform(heart)\n",
        "print(principal_components)"
      ],
      "execution_count": null,
      "outputs": [
        {
          "output_type": "stream",
          "text": [
            "[[ 2.75324840e+03 -3.50794635e+00 -1.25813565e+02 ... -1.78537933e+01\n",
            "  -1.93738944e+00  2.02882717e-01]\n",
            " [ 1.11337763e+03  7.27596698e+03 -1.20383654e+02 ...  5.01809960e+00\n",
            "   2.23092434e+00 -4.56258760e-01]\n",
            " [-1.00246873e+05 -4.09802151e+02 -1.21598814e+02 ... -8.57536949e+00\n",
            "   5.58682357e+00 -6.44052361e-01]\n",
            " ...\n",
            " [ 7.75360815e+03  1.23295354e+03  1.42217392e+02 ... -4.56811960e-01\n",
            "   9.63409693e-01  1.09529350e-01]\n",
            " [ 4.79753658e+05  1.33685357e+03  1.44884857e+02 ...  1.41186191e+01\n",
            "   1.95626021e+00  2.83489364e-02]\n",
            " [-1.22246215e+05  1.86344372e+03  1.53128923e+02 ...  8.96098593e+00\n",
            "  -2.16802075e+00  4.89527023e-01]]\n"
          ],
          "name": "stdout"
        }
      ]
    },
    {
      "cell_type": "code",
      "metadata": {
        "colab": {
          "base_uri": "https://localhost:8080/"
        },
        "id": "Alk41M9PTMJ6",
        "outputId": "9c600425-845e-406a-c1ed-a3a1909f5688"
      },
      "source": [
        "principal_components.shape"
      ],
      "execution_count": null,
      "outputs": [
        {
          "output_type": "execute_result",
          "data": {
            "text/plain": [
              "(292, 7)"
            ]
          },
          "metadata": {
            "tags": []
          },
          "execution_count": 361
        }
      ]
    },
    {
      "cell_type": "code",
      "metadata": {
        "colab": {
          "base_uri": "https://localhost:8080/"
        },
        "id": "OaspuulYTPu-",
        "outputId": "d45048f0-d7db-4cc5-b1bf-13b36eeba058"
      },
      "source": [
        "pca.explained_variance_ratio_"
      ],
      "execution_count": null,
      "outputs": [
        {
          "output_type": "execute_result",
          "data": {
            "text/plain": [
              "array([9.99895079e-01, 1.04237083e-04, 6.52513037e-07, 1.59286877e-08,\n",
              "       1.36671300e-08, 2.01413803e-09, 1.11865004e-10])"
            ]
          },
          "metadata": {
            "tags": []
          },
          "execution_count": 362
        }
      ]
    },
    {
      "cell_type": "code",
      "metadata": {
        "colab": {
          "base_uri": "https://localhost:8080/"
        },
        "id": "Fco10yA9TT8i",
        "outputId": "1fea9015-546f-4e90-dc7e-5c914772b7e4"
      },
      "source": [
        "sum(pca.explained_variance_ratio_)"
      ],
      "execution_count": null,
      "outputs": [
        {
          "output_type": "execute_result",
          "data": {
            "text/plain": [
              "0.9999999998638263"
            ]
          },
          "metadata": {
            "tags": []
          },
          "execution_count": 363
        }
      ]
    },
    {
      "cell_type": "code",
      "metadata": {
        "colab": {
          "base_uri": "https://localhost:8080/"
        },
        "id": "bQ9sAZn4fxu4",
        "outputId": "2ef2c63c-0b42-4ebf-d9cb-ebb59243e616"
      },
      "source": [
        "heart.keys()"
      ],
      "execution_count": null,
      "outputs": [
        {
          "output_type": "execute_result",
          "data": {
            "text/plain": [
              "Index(['age', 'anaemia', 'creatinine_phosphokinase', 'diabetes',\n",
              "       'ejection_fraction', 'high_blood_pressure', 'platelets',\n",
              "       'serum_creatinine', 'serum_sodium', 'sex', 'smoking', 'time',\n",
              "       'DEATH_EVENT', 'target'],\n",
              "      dtype='object')"
            ]
          },
          "metadata": {
            "tags": []
          },
          "execution_count": 364
        }
      ]
    },
    {
      "cell_type": "code",
      "metadata": {
        "id": "tBPXJ24sTXxM"
      },
      "source": [
        "principal_df = pd.DataFrame(data=principal_components, columns=[\"a\", \"b\", \"c\", \"d\", \"e\", \"f\", \"g\"])\n",
        "#principal_df.head()\n",
        "main_df=pd.concat([principal_df, heart[[\"high_blood_pressure\"]]], axis=1)"
      ],
      "execution_count": null,
      "outputs": []
    },
    {
      "cell_type": "code",
      "metadata": {
        "colab": {
          "base_uri": "https://localhost:8080/",
          "height": 419
        },
        "id": "jKAEdvSpTbtK",
        "outputId": "eb12d693-7569-471f-c49f-b943363b72ec"
      },
      "source": [
        "main_df"
      ],
      "execution_count": null,
      "outputs": [
        {
          "output_type": "execute_result",
          "data": {
            "text/html": [
              "<div>\n",
              "<style scoped>\n",
              "    .dataframe tbody tr th:only-of-type {\n",
              "        vertical-align: middle;\n",
              "    }\n",
              "\n",
              "    .dataframe tbody tr th {\n",
              "        vertical-align: top;\n",
              "    }\n",
              "\n",
              "    .dataframe thead th {\n",
              "        text-align: right;\n",
              "    }\n",
              "</style>\n",
              "<table border=\"1\" class=\"dataframe\">\n",
              "  <thead>\n",
              "    <tr style=\"text-align: right;\">\n",
              "      <th></th>\n",
              "      <th>a</th>\n",
              "      <th>b</th>\n",
              "      <th>c</th>\n",
              "      <th>d</th>\n",
              "      <th>e</th>\n",
              "      <th>f</th>\n",
              "      <th>g</th>\n",
              "      <th>high_blood_pressure</th>\n",
              "    </tr>\n",
              "  </thead>\n",
              "  <tbody>\n",
              "    <tr>\n",
              "      <th>0</th>\n",
              "      <td>2753.248396</td>\n",
              "      <td>-3.507925</td>\n",
              "      <td>-125.815097</td>\n",
              "      <td>8.613327</td>\n",
              "      <td>-17.852657</td>\n",
              "      <td>-1.937293</td>\n",
              "      <td>0.208400</td>\n",
              "      <td>1</td>\n",
              "    </tr>\n",
              "    <tr>\n",
              "      <th>1</th>\n",
              "      <td>1113.377628</td>\n",
              "      <td>7275.966996</td>\n",
              "      <td>-120.384459</td>\n",
              "      <td>-2.959855</td>\n",
              "      <td>5.016133</td>\n",
              "      <td>2.232246</td>\n",
              "      <td>-0.438753</td>\n",
              "      <td>0</td>\n",
              "    </tr>\n",
              "    <tr>\n",
              "      <th>2</th>\n",
              "      <td>-100246.872929</td>\n",
              "      <td>-409.802131</td>\n",
              "      <td>-121.600291</td>\n",
              "      <td>14.544716</td>\n",
              "      <td>-8.572810</td>\n",
              "      <td>5.587307</td>\n",
              "      <td>-0.635340</td>\n",
              "      <td>0</td>\n",
              "    </tr>\n",
              "    <tr>\n",
              "      <th>3</th>\n",
              "      <td>-52246.884890</td>\n",
              "      <td>-458.625277</td>\n",
              "      <td>-121.569608</td>\n",
              "      <td>22.747496</td>\n",
              "      <td>3.685375</td>\n",
              "      <td>-2.159595</td>\n",
              "      <td>0.556297</td>\n",
              "      <td>0</td>\n",
              "    </tr>\n",
              "    <tr>\n",
              "      <th>4</th>\n",
              "      <td>64753.124209</td>\n",
              "      <td>-443.380805</td>\n",
              "      <td>-122.376050</td>\n",
              "      <td>16.027513</td>\n",
              "      <td>-11.234562</td>\n",
              "      <td>18.790814</td>\n",
              "      <td>0.276275</td>\n",
              "      <td>0</td>\n",
              "    </tr>\n",
              "    <tr>\n",
              "      <th>...</th>\n",
              "      <td>...</td>\n",
              "      <td>...</td>\n",
              "      <td>...</td>\n",
              "      <td>...</td>\n",
              "      <td>...</td>\n",
              "      <td>...</td>\n",
              "      <td>...</td>\n",
              "      <td>...</td>\n",
              "    </tr>\n",
              "    <tr>\n",
              "      <th>294</th>\n",
              "      <td>NaN</td>\n",
              "      <td>NaN</td>\n",
              "      <td>NaN</td>\n",
              "      <td>NaN</td>\n",
              "      <td>NaN</td>\n",
              "      <td>NaN</td>\n",
              "      <td>NaN</td>\n",
              "      <td>1</td>\n",
              "    </tr>\n",
              "    <tr>\n",
              "      <th>295</th>\n",
              "      <td>NaN</td>\n",
              "      <td>NaN</td>\n",
              "      <td>NaN</td>\n",
              "      <td>NaN</td>\n",
              "      <td>NaN</td>\n",
              "      <td>NaN</td>\n",
              "      <td>NaN</td>\n",
              "      <td>0</td>\n",
              "    </tr>\n",
              "    <tr>\n",
              "      <th>296</th>\n",
              "      <td>NaN</td>\n",
              "      <td>NaN</td>\n",
              "      <td>NaN</td>\n",
              "      <td>NaN</td>\n",
              "      <td>NaN</td>\n",
              "      <td>NaN</td>\n",
              "      <td>NaN</td>\n",
              "      <td>0</td>\n",
              "    </tr>\n",
              "    <tr>\n",
              "      <th>297</th>\n",
              "      <td>NaN</td>\n",
              "      <td>NaN</td>\n",
              "      <td>NaN</td>\n",
              "      <td>NaN</td>\n",
              "      <td>NaN</td>\n",
              "      <td>NaN</td>\n",
              "      <td>NaN</td>\n",
              "      <td>0</td>\n",
              "    </tr>\n",
              "    <tr>\n",
              "      <th>298</th>\n",
              "      <td>NaN</td>\n",
              "      <td>NaN</td>\n",
              "      <td>NaN</td>\n",
              "      <td>NaN</td>\n",
              "      <td>NaN</td>\n",
              "      <td>NaN</td>\n",
              "      <td>NaN</td>\n",
              "      <td>0</td>\n",
              "    </tr>\n",
              "  </tbody>\n",
              "</table>\n",
              "<p>299 rows × 8 columns</p>\n",
              "</div>"
            ],
            "text/plain": [
              "                 a            b  ...         g  high_blood_pressure\n",
              "0      2753.248396    -3.507925  ...  0.208400                    1\n",
              "1      1113.377628  7275.966996  ... -0.438753                    0\n",
              "2   -100246.872929  -409.802131  ... -0.635340                    0\n",
              "3    -52246.884890  -458.625277  ...  0.556297                    0\n",
              "4     64753.124209  -443.380805  ...  0.276275                    0\n",
              "..             ...          ...  ...       ...                  ...\n",
              "294            NaN          NaN  ...       NaN                    1\n",
              "295            NaN          NaN  ...       NaN                    0\n",
              "296            NaN          NaN  ...       NaN                    0\n",
              "297            NaN          NaN  ...       NaN                    0\n",
              "298            NaN          NaN  ...       NaN                    0\n",
              "\n",
              "[299 rows x 8 columns]"
            ]
          },
          "metadata": {
            "tags": []
          },
          "execution_count": 365
        }
      ]
    },
    {
      "cell_type": "code",
      "metadata": {
        "colab": {
          "base_uri": "https://localhost:8080/",
          "height": 523
        },
        "id": "7qEuBbSqTfiE",
        "outputId": "49f502ac-c133-4ec6-db02-4bf9869e7674"
      },
      "source": [
        "fig = plt.figure(figsize = (8,8))\n",
        "ax = fig.add_subplot(1,1, 1) \n",
        "ax.set_xlabel('Principal Component 1', fontsize = 15)\n",
        "ax.set_ylabel('Principal Component 2', fontsize = 15)\n",
        "ax.set_title('2 component PCA', fontsize = 20)\n",
        "targets = [0, 1]\n",
        "colors = ['#1f77b4', '#ff7f0e', '#17becf']\n",
        "for target, color in zip(targets,colors):\n",
        "    indicesToKeep = main_df['high_blood_pressure'] == target\n",
        "    #print(indicesToKeep)\n",
        "    ax.scatter(main_df.loc[indicesToKeep, 'a']\n",
        "               , main_df.loc[indicesToKeep, 'g']\n",
        "               , c = color\n",
        "               , s = 50)\n",
        "ax.legend([\"low\", \"high\"])\n",
        "ax.grid()"
      ],
      "execution_count": null,
      "outputs": [
        {
          "output_type": "display_data",
          "data": {
            "image/png": "[encoded data removed]",
            "text/plain": [
              "<Figure size 576x576 with 1 Axes>"
            ]
          },
          "metadata": {
            "tags": [],
            "needs_background": "light"
          }
        }
      ]
    },
    {
      "cell_type": "code",
      "metadata": {
        "colab": {
          "base_uri": "https://localhost:8080/"
        },
        "id": "ZyJsbc66V8lj",
        "outputId": "0846f8f3-c424-46be-d35e-bcc562bce01a"
      },
      "source": [
        "main_df.info()"
      ],
      "execution_count": null,
      "outputs": [
        {
          "output_type": "stream",
          "text": [
            "<class 'pandas.core.frame.DataFrame'>\n",
            "RangeIndex: 299 entries, 0 to 298\n",
            "Data columns (total 8 columns):\n",
            " #   Column               Non-Null Count  Dtype  \n",
            "---  ------               --------------  -----  \n",
            " 0   a                    292 non-null    float64\n",
            " 1   b                    292 non-null    float64\n",
            " 2   c                    292 non-null    float64\n",
            " 3   d                    292 non-null    float64\n",
            " 4   e                    292 non-null    float64\n",
            " 5   f                    292 non-null    float64\n",
            " 6   g                    292 non-null    float64\n",
            " 7   high_blood_pressure  299 non-null    int64  \n",
            "dtypes: float64(7), int64(1)\n",
            "memory usage: 18.8 KB\n"
          ],
          "name": "stdout"
        }
      ]
    },
    {
      "cell_type": "code",
      "metadata": {
        "colab": {
          "base_uri": "https://localhost:8080/"
        },
        "id": "UqSzD23UWRtx",
        "outputId": "a6ddefff-8899-498b-a801-51f95f08737c"
      },
      "source": [
        "print(main_df.isnull().sum())"
      ],
      "execution_count": null,
      "outputs": [
        {
          "output_type": "stream",
          "text": [
            "a                      7\n",
            "b                      7\n",
            "c                      7\n",
            "d                      7\n",
            "e                      7\n",
            "f                      7\n",
            "g                      7\n",
            "high_blood_pressure    0\n",
            "dtype: int64\n"
          ],
          "name": "stdout"
        }
      ]
    },
    {
      "cell_type": "code",
      "metadata": {
        "id": "X_xYjdGmWfKk"
      },
      "source": [
        "from sklearn.impute import SimpleImputer\n",
        "\n",
        "impute = SimpleImputer(missing_values=np.nan, strategy='mean')\n",
        "\n",
        "impute.fit(main_df[['high_blood_pressure']])\n",
        "\n",
        "impute.fit(main_df[['a']])\n",
        "impute.fit(main_df[['b']])\n",
        "impute.fit(main_df[['c']])\n",
        "impute.fit(main_df[['d']])\n",
        "impute.fit(main_df[['e']])\n",
        "impute.fit(main_df[['f']])\n",
        "impute.fit(main_df[['g']])\n",
        "\n",
        "main_df['high_blood_pressure'] = impute.transform(main_df[['high_blood_pressure']])\n",
        "main_df['a'] = impute.transform(main_df[['a']])\n",
        "main_df['b'] = impute.transform(main_df[['b']])\n",
        "main_df['c'] = impute.transform(main_df[['c']])\n",
        "main_df['d'] = impute.transform(main_df[['d']])\n",
        "main_df['e'] = impute.transform(main_df[['e']])\n",
        "main_df['f'] = impute.transform(main_df[['f']])\n",
        "main_df['g'] = impute.transform(main_df[['g']])\n"
      ],
      "execution_count": null,
      "outputs": []
    },
    {
      "cell_type": "code",
      "metadata": {
        "colab": {
          "base_uri": "https://localhost:8080/"
        },
        "id": "iQiOpwMLZJzW",
        "outputId": "1592aed1-7d11-4989-8892-8aaab4f4dc21"
      },
      "source": [
        "print(main_df.isnull().sum())"
      ],
      "execution_count": null,
      "outputs": [
        {
          "output_type": "stream",
          "text": [
            "a                      0\n",
            "b                      0\n",
            "c                      0\n",
            "d                      0\n",
            "e                      0\n",
            "f                      0\n",
            "g                      0\n",
            "high_blood_pressure    0\n",
            "dtype: int64\n"
          ],
          "name": "stdout"
        }
      ]
    },
    {
      "cell_type": "code",
      "metadata": {
        "id": "TbWbbBl-y4MI"
      },
      "source": [
        "z = heart.drop('high_blood_pressure', axis = 1)\n",
        "m = heart['high_blood_pressure']"
      ],
      "execution_count": null,
      "outputs": []
    },
    {
      "cell_type": "code",
      "metadata": {
        "id": "k_UZyotKdPs5"
      },
      "source": [
        "z_train, z_test, m_train, m_test = train_test_split(z , m , test_size=0.2, random_state=42)"
      ],
      "execution_count": null,
      "outputs": []
    },
    {
      "cell_type": "code",
      "metadata": {
        "colab": {
          "base_uri": "https://localhost:8080/"
        },
        "id": "mGdcXE-edYsm",
        "outputId": "ba55773b-c2a0-46e8-f36e-56c06170d18a"
      },
      "source": [
        "from sklearn.neighbors import KNeighborsClassifier\n",
        "knn_2=KNeighborsClassifier(n_neighbors=4)\n",
        "knn_2.fit(z_train, m_train)"
      ],
      "execution_count": null,
      "outputs": [
        {
          "output_type": "execute_result",
          "data": {
            "text/plain": [
              "KNeighborsClassifier(n_neighbors=4)"
            ]
          },
          "metadata": {
            "tags": []
          },
          "execution_count": 384
        }
      ]
    },
    {
      "cell_type": "code",
      "metadata": {
        "colab": {
          "base_uri": "https://localhost:8080/"
        },
        "id": "WMrd_Jm5d8L_",
        "outputId": "35c6e747-dd41-4881-b573-c91ec801422d"
      },
      "source": [
        "#Performance of the KNN model when the 30 dimensions are reduced to 2 pca\n",
        "print(\"Training accuracy is {:.2f}\".format(knn_2.score(z_train, m_train)) )\n",
        "print(\"Testing accuracy is {:.2f} \".format(knn_2.score(z_test, m_test)) )"
      ],
      "execution_count": null,
      "outputs": [
        {
          "output_type": "stream",
          "text": [
            "Training accuracy is 0.70\n",
            "Testing accuracy is 0.73 \n"
          ],
          "name": "stdout"
        }
      ]
    },
    {
      "cell_type": "code",
      "metadata": {
        "colab": {
          "base_uri": "https://localhost:8080/"
        },
        "id": "bLo40PW84dCd",
        "outputId": "3116169a-9397-464f-f33b-114d5bcc3b90"
      },
      "source": [
        "print(\"Training set: z->{} , m->{} \\n Testing set: z->{} , m->{}\".format(z_train.shape, m_train.shape, z_test.shape, m_test.shape))"
      ],
      "execution_count": null,
      "outputs": [
        {
          "output_type": "stream",
          "text": [
            "Training set: z->(233, 13) , m->(233,) \n",
            " Testing set: z->(59, 13) , m->(59,)\n"
          ],
          "name": "stdout"
        }
      ]
    },
    {
      "cell_type": "code",
      "metadata": {
        "colab": {
          "base_uri": "https://localhost:8080/"
        },
        "id": "e4Wtsc7F4kKI",
        "outputId": "d450d7cb-e380-42d9-c643-fc013b809802"
      },
      "source": [
        "#Gaussian Naive Baiyes\n",
        "\n",
        "from sklearn.naive_bayes import GaussianNB\n",
        "gnb = GaussianNB()\n",
        "gnb.fit(z_train, m_train)"
      ],
      "execution_count": null,
      "outputs": [
        {
          "output_type": "execute_result",
          "data": {
            "text/plain": [
              "GaussianNB()"
            ]
          },
          "metadata": {
            "tags": []
          },
          "execution_count": 392
        }
      ]
    },
    {
      "cell_type": "code",
      "metadata": {
        "colab": {
          "base_uri": "https://localhost:8080/"
        },
        "id": "m0_ee5E34n-g",
        "outputId": "16c725ef-d427-4ef5-eb5a-bb8301a3d2d8"
      },
      "source": [
        "print(\"Training accuracy of the model is {:.2f}\".format(gnb.score(z_train, m_train)))\n",
        "print(\"Testing accuracy of the model is {:.2f}\".format(gnb.score(z_test, m_test)))"
      ],
      "execution_count": null,
      "outputs": [
        {
          "output_type": "stream",
          "text": [
            "Training accuracy of the model is 0.57\n",
            "Testing accuracy of the model is 0.44\n"
          ],
          "name": "stdout"
        }
      ]
    },
    {
      "cell_type": "code",
      "metadata": {
        "colab": {
          "base_uri": "https://localhost:8080/"
        },
        "id": "FgtNYzRp41nh",
        "outputId": "328016a5-6684-44e4-88a1-b36cd7512a5c"
      },
      "source": [
        "predictions = gnb.predict(z_test)\n",
        "print(predictions)"
      ],
      "execution_count": null,
      "outputs": [
        {
          "output_type": "stream",
          "text": [
            "[1 0 1 1 1 1 0 1 0 1 1 0 1 0 0 1 0 0 1 0 0 0 0 0 1 1 0 1 0 1 1 1 0 1 1 1 1\n",
            " 1 0 1 0 1 0 1 1 1 1 1 0 1 1 1 0 1 0 1 0 0 1]\n"
          ],
          "name": "stdout"
        }
      ]
    },
    {
      "cell_type": "code",
      "metadata": {
        "colab": {
          "base_uri": "https://localhost:8080/"
        },
        "id": "seZC03uK5YOg",
        "outputId": "1642a925-e394-4b9d-8eec-9098c89159cb"
      },
      "source": [
        "from sklearn.metrics import confusion_matrix\n",
        "mat=confusion_matrix(predictions, m_test)\n",
        "print(mat)"
      ],
      "execution_count": null,
      "outputs": [
        {
          "output_type": "stream",
          "text": [
            "[[16  8]\n",
            " [25 10]]\n"
          ],
          "name": "stdout"
        }
      ]
    },
    {
      "cell_type": "code",
      "metadata": {
        "colab": {
          "base_uri": "https://localhost:8080/",
          "height": 298
        },
        "id": "R5gkhwty5hC-",
        "outputId": "5d84feb7-bdb4-4d27-cae1-38830123c5ae"
      },
      "source": [
        "from seaborn import heatmap\n",
        "heatmap(mat , cmap=\"Pastel1_r\", xticklabels=['class_0' ,'class_1' ,'class_2'], yticklabels=['class_0' ,'class_1', 'class_2'], annot=True)"
      ],
      "execution_count": null,
      "outputs": [
        {
          "output_type": "execute_result",
          "data": {
            "text/plain": [
              "<matplotlib.axes._subplots.AxesSubplot at 0x7f093bcd14e0>"
            ]
          },
          "metadata": {
            "tags": []
          },
          "execution_count": 396
        },
        {
          "output_type": "display_data",
          "data": {
            "image/png": "[encoded data removed]",
            "text/plain": [
              "<Figure size 432x288 with 2 Axes>"
            ]
          },
          "metadata": {
            "tags": [],
            "needs_background": "light"
          }
        }
      ]
    },
    {
      "cell_type": "code",
      "metadata": {
        "colab": {
          "base_uri": "https://localhost:8080/"
        },
        "id": "1X7U8J4U5mEc",
        "outputId": "82afeff3-1da7-45a8-a80e-5c05af0e7e94"
      },
      "source": [
        "from sklearn.ensemble import RandomForestClassifier\n",
        "rfc = RandomForestClassifier(n_estimators=50)\n",
        "rfc.fit(z_train, m_train)"
      ],
      "execution_count": null,
      "outputs": [
        {
          "output_type": "execute_result",
          "data": {
            "text/plain": [
              "RandomForestClassifier(n_estimators=50)"
            ]
          },
          "metadata": {
            "tags": []
          },
          "execution_count": 398
        }
      ]
    },
    {
      "cell_type": "code",
      "metadata": {
        "colab": {
          "base_uri": "https://localhost:8080/"
        },
        "id": "b1gHDWkz5shn",
        "outputId": "dc54fa07-e621-4709-9fe1-5a62e875a882"
      },
      "source": [
        "print(\"The Training accuracy of the model is {:.2f}\".format(rfc.score(z_train, m_train)))\n",
        "print(\"The Testing accuracy of the model is {:.2f}\".format(rfc.score(z_test, m_test)))"
      ],
      "execution_count": null,
      "outputs": [
        {
          "output_type": "stream",
          "text": [
            "The Training accuracy of the model is 1.00\n",
            "The Testing accuracy of the model is 0.53\n"
          ],
          "name": "stdout"
        }
      ]
    },
    {
      "cell_type": "code",
      "metadata": {
        "id": "uSKqSHe_56ZT"
      },
      "source": [
        "predictions = rfc.predict(z_test)"
      ],
      "execution_count": null,
      "outputs": []
    },
    {
      "cell_type": "code",
      "metadata": {
        "colab": {
          "base_uri": "https://localhost:8080/"
        },
        "id": "UCt-PAhQ5_8V",
        "outputId": "40e1798f-a6b1-466d-e9a5-e0c6a2a57d37"
      },
      "source": [
        "from sklearn.metrics import confusion_matrix\n",
        "mat=confusion_matrix(predictions, m_test)\n",
        "print(mat)"
      ],
      "execution_count": null,
      "outputs": [
        {
          "output_type": "stream",
          "text": [
            "[[27 14]\n",
            " [14  4]]\n"
          ],
          "name": "stdout"
        }
      ]
    },
    {
      "cell_type": "code",
      "metadata": {
        "colab": {
          "base_uri": "https://localhost:8080/",
          "height": 298
        },
        "id": "M7H8evAS6FLd",
        "outputId": "b6b7a8f6-af37-400f-8634-b25834f4fb44"
      },
      "source": [
        "from seaborn import heatmap\n",
        "heatmap(mat , cmap=\"Pastel1_r\", xticklabels=['class_0' ,'class_1' ,'class_2'], yticklabels=['class_0' ,'class_1', 'class_2'], annot=True)"
      ],
      "execution_count": null,
      "outputs": [
        {
          "output_type": "execute_result",
          "data": {
            "text/plain": [
              "<matplotlib.axes._subplots.AxesSubplot at 0x7f093bb0b668>"
            ]
          },
          "metadata": {
            "tags": []
          },
          "execution_count": 402
        },
        {
          "output_type": "display_data",
          "data": {
            "image/png": "[encoded data removed]",
            "text/plain": [
              "<Figure size 432x288 with 2 Axes>"
            ]
          },
          "metadata": {
            "tags": [],
            "needs_background": "light"
          }
        }
      ]
    },
    {
      "cell_type": "code",
      "metadata": {
        "id": "yty71S-3eBTz"
      },
      "source": [
        "from sklearn.neural_network import MLPClassifier\n",
        "nnc=MLPClassifier(hidden_layer_sizes=(7), activation=\"relu\", max_iter=10000000000)"
      ],
      "execution_count": null,
      "outputs": []
    },
    {
      "cell_type": "code",
      "metadata": {
        "colab": {
          "base_uri": "https://localhost:8080/"
        },
        "id": "Jp5QCNBLjsCn",
        "outputId": "c54bfa71-a8ce-436a-923b-4f385cbe1b8c"
      },
      "source": [
        "nnc.fit(z_train, m_train)"
      ],
      "execution_count": null,
      "outputs": [
        {
          "output_type": "execute_result",
          "data": {
            "text/plain": [
              "MLPClassifier(hidden_layer_sizes=7, max_iter=10000000000)"
            ]
          },
          "metadata": {
            "tags": []
          },
          "execution_count": 406
        }
      ]
    },
    {
      "cell_type": "code",
      "metadata": {
        "colab": {
          "base_uri": "https://localhost:8080/"
        },
        "id": "Ql65k0pnj0Nv",
        "outputId": "b88a76a6-5f7e-46fd-84bb-9e61c11922fd"
      },
      "source": [
        "print(\"The Training accuracy of the model is {:.2f}\".format(nnc.score(z_train, m_train)))\n",
        "print(\"The Testing accuracy of the model is {:.2f}\".format(nnc.score(z_test, m_test)))"
      ],
      "execution_count": null,
      "outputs": [
        {
          "output_type": "stream",
          "text": [
            "The Training accuracy of the model is 0.42\n",
            "The Testing accuracy of the model is 0.32\n"
          ],
          "name": "stdout"
        }
      ]
    },
    {
      "cell_type": "code",
      "metadata": {
        "colab": {
          "base_uri": "https://localhost:8080/"
        },
        "id": "BGkQvyBKj9LR",
        "outputId": "3894a38c-b45e-42d8-a0a4-e61208277e16"
      },
      "source": [
        "predictions = nnc.predict(z_test)\n",
        "print(predictions)"
      ],
      "execution_count": null,
      "outputs": [
        {
          "output_type": "stream",
          "text": [
            "[1 1 1 1 1 1 1 1 1 1 1 0 1 1 1 1 1 1 1 1 1 1 1 1 1 1 1 1 0 1 1 1 1 1 1 1 1\n",
            " 1 1 1 0 1 1 1 1 1 1 1 0 1 1 1 1 1 1 1 1 0 1]\n"
          ],
          "name": "stdout"
        }
      ]
    },
    {
      "cell_type": "code",
      "metadata": {
        "colab": {
          "base_uri": "https://localhost:8080/"
        },
        "id": "-0i6j3IikA1I",
        "outputId": "1ee0aebe-f8bf-4001-cf3c-2b263922ea31"
      },
      "source": [
        "from sklearn.metrics import confusion_matrix\n",
        "mat=confusion_matrix(predictions, m_test)\n",
        "print(mat)"
      ],
      "execution_count": null,
      "outputs": [
        {
          "output_type": "stream",
          "text": [
            "[[ 3  2]\n",
            " [38 16]]\n"
          ],
          "name": "stdout"
        }
      ]
    },
    {
      "cell_type": "code",
      "metadata": {
        "colab": {
          "base_uri": "https://localhost:8080/",
          "height": 298
        },
        "id": "RRtl6jlAkFV3",
        "outputId": "0d2db425-4bca-40b5-f9cc-6b29190fc922"
      },
      "source": [
        "from seaborn import heatmap\n",
        "heatmap(mat , cmap=\"Pastel1_r\", xticklabels=['class_0' ,'class_1' ,'class_2'], yticklabels=['class_0' ,'class_1', 'class_2'], annot=True)"
      ],
      "execution_count": null,
      "outputs": [
        {
          "output_type": "execute_result",
          "data": {
            "text/plain": [
              "<matplotlib.axes._subplots.AxesSubplot at 0x7f093bb47cf8>"
            ]
          },
          "metadata": {
            "tags": []
          },
          "execution_count": 410
        },
        {
          "output_type": "display_data",
          "data": {
            "image/png": "[encoded data removed]",
            "text/plain": [
              "<Figure size 432x288 with 2 Axes>"
            ]
          },
          "metadata": {
            "tags": [],
            "needs_background": "light"
          }
        }
      ]
    },
    {
      "cell_type": "code",
      "metadata": {
        "colab": {
          "base_uri": "https://localhost:8080/"
        },
        "id": "mphYNsP7kLMx",
        "outputId": "2b6a3aef-3422-43e5-d496-01399bef4ebf"
      },
      "source": [
        "from sklearn.svm import LinearSVC\n",
        "svc = LinearSVC(random_state=0, tol=1e-5)\n",
        "svc.fit(z_train, m_train) "
      ],
      "execution_count": null,
      "outputs": [
        {
          "output_type": "stream",
          "text": [
            "/usr/local/lib/python3.6/dist-packages/sklearn/svm/_base.py:986: ConvergenceWarning: Liblinear failed to converge, increase the number of iterations.\n",
            "  \"the number of iterations.\", ConvergenceWarning)\n"
          ],
          "name": "stderr"
        },
        {
          "output_type": "execute_result",
          "data": {
            "text/plain": [
              "LinearSVC(random_state=0, tol=1e-05)"
            ]
          },
          "metadata": {
            "tags": []
          },
          "execution_count": 412
        }
      ]
    },
    {
      "cell_type": "code",
      "metadata": {
        "colab": {
          "base_uri": "https://localhost:8080/"
        },
        "id": "keXelqnikPkl",
        "outputId": "294794f5-f236-4113-d9b1-07572dfa9d6d"
      },
      "source": [
        "print(\"Training accuracy of the model is {:.2f}\".format(svc.score(z_train, m_train)))\n",
        "print(\"Testing accuracy of the model is {:.2f}\".format(svc.score(z_test, m_test)))"
      ],
      "execution_count": null,
      "outputs": [
        {
          "output_type": "stream",
          "text": [
            "Training accuracy of the model is 0.64\n",
            "Testing accuracy of the model is 0.69\n"
          ],
          "name": "stdout"
        }
      ]
    },
    {
      "cell_type": "code",
      "metadata": {
        "colab": {
          "base_uri": "https://localhost:8080/"
        },
        "id": "UA0eYrNTkT08",
        "outputId": "6bc7b66f-e096-4d65-d583-ff3d0d4f1e72"
      },
      "source": [
        "predictions = svc.predict(z_test)\n",
        "print(predictions)"
      ],
      "execution_count": null,
      "outputs": [
        {
          "output_type": "stream",
          "text": [
            "[0 0 0 0 0 0 0 0 0 0 0 0 0 0 0 0 0 0 0 0 0 0 0 0 0 0 0 0 0 0 0 0 0 0 0 0 0\n",
            " 0 0 0 0 0 0 0 0 0 0 0 0 0 0 0 0 0 0 0 0 0 0]\n"
          ],
          "name": "stdout"
        }
      ]
    },
    {
      "cell_type": "code",
      "metadata": {
        "colab": {
          "base_uri": "https://localhost:8080/"
        },
        "id": "Q2-FZOHXkXTd",
        "outputId": "cfcbbc20-94b1-4637-d164-91b28a6b9bf8"
      },
      "source": [
        "from sklearn.metrics import confusion_matrix\n",
        "mat=confusion_matrix(predictions, m_test)\n",
        "print(mat)"
      ],
      "execution_count": null,
      "outputs": [
        {
          "output_type": "stream",
          "text": [
            "[[41 18]\n",
            " [ 0  0]]\n"
          ],
          "name": "stdout"
        }
      ]
    },
    {
      "cell_type": "code",
      "metadata": {
        "colab": {
          "base_uri": "https://localhost:8080/",
          "height": 298
        },
        "id": "Uqh0v8Xnkal0",
        "outputId": "b6d4a7dd-4257-47c9-bdfd-3eb158adcb72"
      },
      "source": [
        "from seaborn import heatmap\n",
        "heatmap(mat , cmap=\"Pastel1_r\", xticklabels=['class_0' ,'class_1' ,'class_2'], yticklabels=['class_0' ,'class_1', 'class_2'], annot=True)"
      ],
      "execution_count": null,
      "outputs": [
        {
          "output_type": "execute_result",
          "data": {
            "text/plain": [
              "<matplotlib.axes._subplots.AxesSubplot at 0x7f093b9b0400>"
            ]
          },
          "metadata": {
            "tags": []
          },
          "execution_count": 421
        },
        {
          "output_type": "display_data",
          "data": {
            "image/png": "[encoded data removed]",
            "text/plain": [
              "<Figure size 432x288 with 2 Axes>"
            ]
          },
          "metadata": {
            "tags": [],
            "needs_background": "light"
          }
        }
      ]
    },
    {
      "cell_type": "code",
      "metadata": {
        "colab": {
          "base_uri": "https://localhost:8080/"
        },
        "id": "ctI3CoImkk8c",
        "outputId": "311d4b3e-cd46-4edc-f0db-2fac327369f7"
      },
      "source": [
        "from sklearn.ensemble import RandomForestClassifier\n",
        "rfc = RandomForestClassifier(n_estimators=50)\n",
        "rfc.fit(z_train, m_train)"
      ],
      "execution_count": null,
      "outputs": [
        {
          "output_type": "execute_result",
          "data": {
            "text/plain": [
              "RandomForestClassifier(n_estimators=50)"
            ]
          },
          "metadata": {
            "tags": []
          },
          "execution_count": 423
        }
      ]
    },
    {
      "cell_type": "code",
      "metadata": {
        "colab": {
          "base_uri": "https://localhost:8080/"
        },
        "id": "q_0uzyNPkxMr",
        "outputId": "047c6b9f-2ad7-4978-a5fb-a28d53c0d4f0"
      },
      "source": [
        "print(\"The Training accuracy of the model is {:.2f}\".format(rfc.score(z_train, m_train)))\n",
        "print(\"The Testing accuracy of the model is {:.2f}\".format(rfc.score(z_test, m_test)))"
      ],
      "execution_count": null,
      "outputs": [
        {
          "output_type": "stream",
          "text": [
            "The Training accuracy of the model is 0.91\n",
            "The Testing accuracy of the model is 0.80\n"
          ],
          "name": "stdout"
        }
      ]
    },
    {
      "cell_type": "code",
      "metadata": {
        "id": "MNgtWktavITj"
      },
      "source": [
        ""
      ],
      "execution_count": null,
      "outputs": []
    }
  ]
}