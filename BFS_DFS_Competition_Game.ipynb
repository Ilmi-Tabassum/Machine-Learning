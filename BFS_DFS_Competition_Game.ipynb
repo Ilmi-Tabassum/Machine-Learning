{
  "nbformat": 4,
  "nbformat_minor": 0,
  "metadata": {
    "colab": {
      "name": "BFS_DFS_Competition_Game.ipynb",
      "provenance": [],
      "collapsed_sections": [],
      "toc_visible": true
    },
    "kernelspec": {
      "name": "python3",
      "display_name": "Python 3"
    }
  },
  "cells": [
    {
      "cell_type": "code",
      "metadata": {
        "id": "JvMIbWEaD8iK",
        "colab": {
          "base_uri": "https://localhost:8080/"
        },
        "outputId": "c7854f81-3443-4735-f67d-9622c87ad39b"
      },
      "source": [
        "!pwd \n"
      ],
      "execution_count": null,
      "outputs": [
        {
          "output_type": "stream",
          "text": [
            "/content\n"
          ],
          "name": "stdout"
        }
      ]
    },
    {
      "cell_type": "code",
      "metadata": {
        "id": "_X5Qq1NAiVPX",
        "colab": {
          "base_uri": "https://localhost:8080/"
        },
        "outputId": "41d04a78-7e6e-4187-cdc6-1fc8e35c150c"
      },
      "source": [
        "!ls"
      ],
      "execution_count": null,
      "outputs": [
        {
          "output_type": "stream",
          "text": [
            "files  file.txt  input.txt  level2graph  my  sample_data\n"
          ],
          "name": "stdout"
        }
      ]
    },
    {
      "cell_type": "code",
      "metadata": {
        "id": "DBMoro-JifCS",
        "colab": {
          "base_uri": "https://localhost:8080/"
        },
        "outputId": "2abbc62f-0650-4098-f80c-2d7ae6cf8dc7"
      },
      "source": [
        "!mkdir my files"
      ],
      "execution_count": null,
      "outputs": [
        {
          "output_type": "stream",
          "text": [
            "mkdir: cannot create directory ‘my’: File exists\n",
            "mkdir: cannot create directory ‘files’: File exists\n"
          ],
          "name": "stdout"
        }
      ]
    },
    {
      "cell_type": "code",
      "metadata": {
        "id": "PDKVk4wUikiB",
        "colab": {
          "base_uri": "https://localhost:8080/"
        },
        "outputId": "91d0d0ae-d1ae-4ba7-b1fa-0154853a69e3"
      },
      "source": [
        "!ls"
      ],
      "execution_count": null,
      "outputs": [
        {
          "output_type": "stream",
          "text": [
            "files  file.txt  input.txt  level2graph  my  sample_data\n"
          ],
          "name": "stdout"
        }
      ]
    },
    {
      "cell_type": "code",
      "metadata": {
        "id": "vSCbD_Eoit0E"
      },
      "source": [
        "!cd files"
      ],
      "execution_count": null,
      "outputs": []
    },
    {
      "cell_type": "code",
      "metadata": {
        "id": "zLrslNzHi0Z2"
      },
      "source": [
        "!touch input.txt"
      ],
      "execution_count": null,
      "outputs": []
    },
    {
      "cell_type": "code",
      "metadata": {
        "id": "OJSZ617mjCIz",
        "colab": {
          "base_uri": "https://localhost:8080/"
        },
        "outputId": "aa3813fb-0414-4abf-f485-fa1be9ac82ef"
      },
      "source": [
        "!ls"
      ],
      "execution_count": null,
      "outputs": [
        {
          "output_type": "stream",
          "text": [
            "files  file.txt  input.txt  level2graph  my  sample_data\n"
          ],
          "name": "stdout"
        }
      ]
    },
    {
      "cell_type": "code",
      "metadata": {
        "id": "-UtO5UWLjb8Z"
      },
      "source": [
        "!cat input.txt"
      ],
      "execution_count": null,
      "outputs": []
    },
    {
      "cell_type": "code",
      "metadata": {
        "id": "2ow7Vc2gjpLw"
      },
      "source": [
        "def readFile(filename):\n",
        "\n",
        "  \n",
        "  with open(filename) as f: \n",
        "    for line in f:\n",
        "      print(line, end=\"\")\n",
        "  return "
      ],
      "execution_count": null,
      "outputs": []
    },
    {
      "cell_type": "code",
      "metadata": {
        "id": "nGxbOt90qjhH"
      },
      "source": [
        ""
      ],
      "execution_count": null,
      "outputs": []
    },
    {
      "cell_type": "code",
      "metadata": {
        "id": "igK9H6epktFq"
      },
      "source": [
        "filename = \"input.txt\"\n",
        "readFile(filename)"
      ],
      "execution_count": null,
      "outputs": []
    },
    {
      "cell_type": "code",
      "metadata": {
        "id": "soDPuP1AHaqk"
      },
      "source": [
        "def readingFromFile(filename):\n",
        "  try:\n",
        "    f= open(filename)\n",
        "  except:    #if an exception occurs this block is implemented \n",
        "    print(\"File {} not found\".format(filename))\n",
        "    return None\n",
        "  graph = dict()   # Creating a python dictionary to store parent as key and its adjacent nodes as value\n",
        "\n",
        "  listOfLines = f.readlines() #reading the file as a list\n",
        "\n",
        "  #converting the file into a tree\n",
        "  numofConnections =int(listOfLines[1].strip()) #The second line is the number of connections and we use strip remove-'\\n','\\t',' '.\n",
        "\n",
        "  for lineNum in range(2, numofConnections+2): #A ForLoop to iterate from line number 2 to 14, in range() start is inclusive and end is exclusive\n",
        "     node = listOfLines[lineNum].strip() # strip the newline characters and whitespaces\n",
        "     node1, node2= node.split() # split() returns a list of 2 values here for instance [2,3] and we unpack 2 to node1 and 3 to node2\n",
        "     if node1 not in graph:  #if parent is not there in the graph keys\n",
        "       graph[node1]=list()  #Add a new list to the parent (Key=parent , Value=Empty List)\n",
        "     graph[node1].append(node2) #Get the list by indexing the dictionary using the key and insert the child(node2) to the list using append\n",
        "    \n",
        "  return  graph\n",
        "\n",
        "  "
      ],
      "execution_count": null,
      "outputs": []
    },
    {
      "cell_type": "code",
      "metadata": {
        "id": "79Zhjostl-9C",
        "colab": {
          "base_uri": "https://localhost:8080/"
        },
        "outputId": "db40e50e-a270-4398-cbde-305069c9fc8a"
      },
      "source": [
        "print(\"Graph :\")\n",
        "print(readFile(\"input.txt\"))"
      ],
      "execution_count": null,
      "outputs": [
        {
          "output_type": "stream",
          "text": [
            "Graph :\n",
            "None\n"
          ],
          "name": "stdout"
        }
      ]
    },
    {
      "cell_type": "code",
      "metadata": {
        "id": "t-fuTmBAvWsL"
      },
      "source": [
        "from queue import Queue\n",
        "Graph =  {\n",
        "'0': ['1', '2', '3'], '1': ['3', '4'], '2': ['3'], '3': ['5', '6'], '4': ['8', '7'], '5': ['6'], '6': ['7'], '7': ['8']}\n",
        "    "
      ],
      "execution_count": null,
      "outputs": []
    },
    {
      "cell_type": "code",
      "metadata": {
        "id": "6BQ4ukNtxJPq",
        "colab": {
          "base_uri": "https://localhost:8080/"
        },
        "outputId": "d97019f7-0627-4291-92f3-09d0b092a21e"
      },
      "source": [
        "def bfs(Graph, start, end):\n",
        "    \n",
        "    queue = [] #BFS follows path in a queue\n",
        "\n",
        "    queue.append([start]) # the starting path into the queue\n",
        "    while queue:\n",
        "       \n",
        "        path = queue.pop(0)  # get the first path from the queue\n",
        "        \n",
        "        node = path[-1]  # get the last node from the path\n",
        "    \n",
        "        if node == end:\n",
        "            return path\n",
        "        \n",
        "        for adjacent in Graph.get(node, []):\n",
        "            new_path = list(path)\n",
        "            new_path.append(adjacent)\n",
        "            queue.append(new_path)\n",
        "\n",
        "print (bfs(Graph, '0', '6'))\n",
        "print(\"Minimum number of moves Nora needs to go from her starting position x = 2\")\n",
        "\n"
      ],
      "execution_count": null,
      "outputs": [
        {
          "output_type": "stream",
          "text": [
            "['0', '3', '6']\n",
            "Minimum number of moves Nora needs to go from her starting position x = 2\n"
          ],
          "name": "stdout"
        }
      ]
    },
    {
      "cell_type": "code",
      "metadata": {
        "id": "BWr1SkEMjTmA",
        "colab": {
          "base_uri": "https://localhost:8080/"
        },
        "outputId": "ac0afdf1-62ed-41e6-93a2-b9607fd1ae12"
      },
      "source": [
        "!mkdir level2graph"
      ],
      "execution_count": null,
      "outputs": [
        {
          "output_type": "stream",
          "text": [
            "mkdir: cannot create directory ‘level2graph’: File exists\n"
          ],
          "name": "stdout"
        }
      ]
    },
    {
      "cell_type": "code",
      "metadata": {
        "id": "44gbJvJqkvPA"
      },
      "source": [
        "!cd level2graph"
      ],
      "execution_count": null,
      "outputs": []
    },
    {
      "cell_type": "code",
      "metadata": {
        "id": "Kvnqxd4Xk3AI"
      },
      "source": [
        "!touch input.txt"
      ],
      "execution_count": null,
      "outputs": []
    },
    {
      "cell_type": "code",
      "metadata": {
        "id": "vxkEKOaW1VPn",
        "colab": {
          "base_uri": "https://localhost:8080/"
        },
        "outputId": "e1e2b4ea-fa70-4f1a-c5b9-38772d9ce0b0"
      },
      "source": [
        "!ls"
      ],
      "execution_count": null,
      "outputs": [
        {
          "output_type": "stream",
          "text": [
            "files  file.txt  input.txt  level2graph  my  sample_data\n"
          ],
          "name": "stdout"
        }
      ]
    },
    {
      "cell_type": "code",
      "metadata": {
        "id": "uQ4eolBz1myD",
        "colab": {
          "base_uri": "https://localhost:8080/"
        },
        "outputId": "fbd64458-0937-4d59-d60d-3aae3857e1fa"
      },
      "source": [
        "!cat input.txt"
      ],
      "execution_count": null,
      "outputs": [
        {
          "output_type": "stream",
          "text": [
            "9\r\n",
            "0 1\r\n",
            "0 2\r\n",
            "0 3\r\n",
            "1 3\r\n",
            "1 4\r\n",
            "2 3\r\n",
            "3 5\r\n",
            "4 8\r\n",
            "4 7\r\n",
            "5 6\r\n",
            "6 7\r\n",
            "7 8"
          ],
          "name": "stdout"
        }
      ]
    },
    {
      "cell_type": "code",
      "metadata": {
        "id": "cGf8F3Jz1nPu"
      },
      "source": [
        "def readFile(filename):\n",
        "\n",
        "  \n",
        "  with open(filename) as f: \n",
        "    for line in f:\n",
        "      print(line, end=\"\")\n",
        "  return "
      ],
      "execution_count": null,
      "outputs": []
    },
    {
      "cell_type": "code",
      "metadata": {
        "id": "TGT8n-DWxhwl"
      },
      "source": [
        ""
      ],
      "execution_count": null,
      "outputs": []
    },
    {
      "cell_type": "code",
      "metadata": {
        "id": "QX4on4EWKNCg"
      },
      "source": [
        "def readFilesusingPython(filename):\n",
        "\n",
        "  \n",
        "  with open(filename) as f: \n",
        "    aslist = f.readlines()\n",
        "  return aslist"
      ],
      "execution_count": null,
      "outputs": []
    },
    {
      "cell_type": "code",
      "metadata": {
        "id": "_8rNtmEoKNhR",
        "colab": {
          "base_uri": "https://localhost:8080/"
        },
        "outputId": "0a2d2c4e-e79f-47a6-e114-a6b495b083ec"
      },
      "source": [
        "filename = \"input.txt\"\n",
        "print(readFilesusingPython(filename))"
      ],
      "execution_count": null,
      "outputs": [
        {
          "output_type": "stream",
          "text": [
            "['9\\n', '0 1\\n', '0 2\\n', '0 3\\n', '1 3\\n', '1 4\\n', '2 3\\n', '3 5\\n', '4 8\\n', '4 7\\n', '5 6\\n', '6 7\\n', '7 8']\n"
          ],
          "name": "stdout"
        }
      ]
    },
    {
      "cell_type": "code",
      "metadata": {
        "id": "JoUWqNdR6lJq",
        "colab": {
          "base_uri": "https://localhost:8080/"
        },
        "outputId": "2201ac03-f636-4bc3-d182-b0010c32286b"
      },
      "source": [
        "filename = \"input.txt\"\n",
        "readFile(filename)"
      ],
      "execution_count": null,
      "outputs": [
        {
          "output_type": "stream",
          "text": [
            "9\n",
            "0 1\n",
            "0 2\n",
            "0 3\n",
            "1 3\n",
            "1 4\n",
            "2 3\n",
            "3 5\n",
            "4 8\n",
            "4 7\n",
            "5 6\n",
            "6 7\n",
            "7 8"
          ],
          "name": "stdout"
        }
      ]
    },
    {
      "cell_type": "code",
      "metadata": {
        "id": "ZNCX4pbdr5LK",
        "colab": {
          "base_uri": "https://localhost:8080/"
        },
        "outputId": "c2139ca7-d5df-43c7-eaa6-44ec445c078f"
      },
      "source": [
        "graph = {'0': ['1', '2', '3'], '1': ['3', '4'], '2': ['3'], '3': ['5'], '4': ['8', '7'], '5': ['6'], '6': ['7'],\n",
        "    '7': ['8']}\n",
        "\n",
        "def backtrace(parent, start, end):\n",
        "    path = [end]\n",
        "    while path[-1] != start:\n",
        "        path.append(parent[path[-1]])\n",
        "    path.reverse()\n",
        "    return path\n",
        "\n",
        "\n",
        "def bfs(graph, start, end):\n",
        "    parent = {}\n",
        "    queue = []\n",
        "    queue.append(start)\n",
        "    while queue:\n",
        "        node = queue.pop(0)\n",
        "        if node == end:\n",
        "            return backtrace(parent, start, end)\n",
        "        for adjacent in graph.get(node, []):\n",
        "            if node not in queue :\n",
        "                parent[adjacent] = node\n",
        "                queue.append(adjacent)\n",
        "\n",
        "\n",
        "\n",
        "print  (bfs(graph, '5', '7'))\n",
        "print(\"Nora requires 2  steps Excluding her current position p\")\n",
        "\n",
        "print (bfs(graph, '3', '7'))\n",
        "print(\"Lara requires 3 steps Excluding her current position q\")\n",
        "\n",
        "print(\"Nora is the winner as she can kill the warrior Lina first\")\n"
      ],
      "execution_count": null,
      "outputs": [
        {
          "output_type": "stream",
          "text": [
            "['5', '6', '7']\n",
            "Nora requires 2  steps Excluding her current position p\n",
            "['3', '5', '6', '7']\n",
            "Lara requires 3 steps Excluding her current position q\n",
            "Nora is the winner as she can kill the warrior Lina first\n"
          ],
          "name": "stdout"
        }
      ]
    },
    {
      "cell_type": "code",
      "metadata": {
        "id": "KyrLyR2Fr_Qs",
        "colab": {
          "base_uri": "https://localhost:8080/"
        },
        "outputId": "784dd84f-b60c-4158-8488-86caa263bfcf"
      },
      "source": [
        "graph = {'0': ['1', '2', '3'], '1': ['3', '4'], '2': ['3'], '3': ['5'], '4': ['7', '8'], '5': ['6'], '6': ['7','9'],\n",
        "    '7': ['8'], '8':['9']}\n",
        "\n",
        "def backtrace(parent, start, end):\n",
        "    path = [end]\n",
        "    while path[-1] != start:\n",
        "        path.append(parent[path[-1]])\n",
        "    path.reverse()\n",
        "    return path\n",
        "\n",
        "\n",
        "def bfs(graph, start, end):\n",
        "    parent = {}\n",
        "    queue = []\n",
        "    queue.append(start)\n",
        "    while queue:\n",
        "        node = queue.pop(0)\n",
        "        if node == end:\n",
        "            return backtrace(parent, start, end)\n",
        "        for adjacent in graph.get(node, []):\n",
        "            if node not in queue :\n",
        "                parent[adjacent] = node\n",
        "                queue.append(adjacent)\n",
        "\n",
        "\n",
        "print(\"k1 participant requires steps to reach x\")\n",
        "print  (bfs(graph, '0', '9'))\n",
        "\n",
        "print(\"k2 participant requires steps to reach x\")\n",
        "print (bfs(graph, '1', '9'))\n",
        "\n",
        "print(\"k3 participant requires steps to reach x\")\n",
        "print (bfs(graph, '3', '9'))\n",
        "\n",
        "print(\"k4 participant requires steps to reach x\")\n",
        "print (bfs(graph, '5', '9'))\n",
        "\n",
        "print(\"k5 participant requires steps to reach x\")\n",
        "print (bfs(graph, '7', '9'))\n",
        "print(\"minimum number of moves the  needed to go to x is 2\")\n"
      ],
      "execution_count": null,
      "outputs": [
        {
          "output_type": "stream",
          "text": [
            "k1 participant requires steps to reach x\n",
            "['0', '2', '3', '5', '6', '9']\n",
            "k2 participant requires steps to reach x\n",
            "['1', '3', '5', '6', '7', '8', '9']\n",
            "k3 participant requires steps to reach x\n",
            "['3', '5', '6', '9']\n",
            "k4 participant requires steps to reach x\n",
            "['5', '6', '9']\n",
            "k5 participant requires steps to reach x\n",
            "['7', '8', '9']\n",
            "minimum number of moves the  needed to go to x is 2\n"
          ],
          "name": "stdout"
        }
      ]
    },
    {
      "cell_type": "code",
      "metadata": {
        "id": "TgBEWv7lbEk-"
      },
      "source": [
        "import numpy as np"
      ],
      "execution_count": null,
      "outputs": []
    },
    {
      "cell_type": "code",
      "metadata": {
        "id": "Y93hwoa1bF3M"
      },
      "source": [
        "file = open('/content/input.txt','r')"
      ],
      "execution_count": null,
      "outputs": []
    },
    {
      "cell_type": "code",
      "metadata": {
        "id": "CbPwJp9FKMnY"
      },
      "source": [
        "lines = file.readlines()"
      ],
      "execution_count": null,
      "outputs": []
    },
    {
      "cell_type": "code",
      "metadata": {
        "id": "0y7mfrJ4BJKM",
        "colab": {
          "base_uri": "https://localhost:8080/"
        },
        "outputId": "7776d175-a6c6-4c70-f840-3c5790d2f3f2"
      },
      "source": [
        "lines"
      ],
      "execution_count": null,
      "outputs": [
        {
          "output_type": "execute_result",
          "data": {
            "text/plain": [
              "['10\\n',\n",
              " '0 1\\n',\n",
              " '0 2\\n',\n",
              " '0 3\\n',\n",
              " '1 3\\n',\n",
              " '1 4\\n',\n",
              " '2 3\\n',\n",
              " '3 5\\n',\n",
              " '4 7\\n',\n",
              " '4 8\\n',\n",
              " '5 6\\n',\n",
              " '6 7\\n',\n",
              " '6 9\\n',\n",
              " '7 8\\n',\n",
              " '8 9\\n']"
            ]
          },
          "metadata": {
            "tags": []
          },
          "execution_count": 8
        }
      ]
    },
    {
      "cell_type": "code",
      "metadata": {
        "id": "ZitBWUnhBmyG"
      },
      "source": [
        "no_nodes = int(lines.pop(0).strip())"
      ],
      "execution_count": null,
      "outputs": []
    },
    {
      "cell_type": "code",
      "metadata": {
        "id": "zAX2QFYWCSZS",
        "colab": {
          "base_uri": "https://localhost:8080/"
        },
        "outputId": "ed8f2dc3-a3c4-4228-c2d1-03d6138e3d62"
      },
      "source": [
        "no_nodes"
      ],
      "execution_count": null,
      "outputs": [
        {
          "output_type": "execute_result",
          "data": {
            "text/plain": [
              "10"
            ]
          },
          "metadata": {
            "tags": []
          },
          "execution_count": 10
        }
      ]
    },
    {
      "cell_type": "code",
      "metadata": {
        "id": "4nTyvCbZCgId"
      },
      "source": [
        ""
      ],
      "execution_count": null,
      "outputs": []
    },
    {
      "cell_type": "code",
      "metadata": {
        "id": "PO3blR7yb3FJ",
        "colab": {
          "base_uri": "https://localhost:8080/"
        },
        "outputId": "257e4fb5-099d-492d-f272-ea12affe428f"
      },
      "source": [
        "\n",
        "adj_mat  = np.zeros((no_nodes, no_nodes), dtype = int)\n",
        "adj_mat"
      ],
      "execution_count": null,
      "outputs": [
        {
          "output_type": "execute_result",
          "data": {
            "text/plain": [
              "array([[0, 0, 0, 0, 0, 0, 0, 0, 0, 0],\n",
              "       [0, 0, 0, 0, 0, 0, 0, 0, 0, 0],\n",
              "       [0, 0, 0, 0, 0, 0, 0, 0, 0, 0],\n",
              "       [0, 0, 0, 0, 0, 0, 0, 0, 0, 0],\n",
              "       [0, 0, 0, 0, 0, 0, 0, 0, 0, 0],\n",
              "       [0, 0, 0, 0, 0, 0, 0, 0, 0, 0],\n",
              "       [0, 0, 0, 0, 0, 0, 0, 0, 0, 0],\n",
              "       [0, 0, 0, 0, 0, 0, 0, 0, 0, 0],\n",
              "       [0, 0, 0, 0, 0, 0, 0, 0, 0, 0],\n",
              "       [0, 0, 0, 0, 0, 0, 0, 0, 0, 0]])"
            ]
          },
          "metadata": {
            "tags": []
          },
          "execution_count": 13
        }
      ]
    },
    {
      "cell_type": "code",
      "metadata": {
        "id": "XtqYVSn9C5f_",
        "colab": {
          "base_uri": "https://localhost:8080/"
        },
        "outputId": "c81a7bc3-cc01-411a-db3e-1e4c14468a6a"
      },
      "source": [
        "lines"
      ],
      "execution_count": null,
      "outputs": [
        {
          "output_type": "execute_result",
          "data": {
            "text/plain": [
              "['0 1\\n',\n",
              " '0 2\\n',\n",
              " '0 3\\n',\n",
              " '1 3\\n',\n",
              " '1 4\\n',\n",
              " '2 3\\n',\n",
              " '3 5\\n',\n",
              " '4 7\\n',\n",
              " '4 8\\n',\n",
              " '5 6\\n',\n",
              " '6 7\\n',\n",
              " '6 9\\n',\n",
              " '7 8\\n',\n",
              " '8 9\\n']"
            ]
          },
          "metadata": {
            "tags": []
          },
          "execution_count": 14
        }
      ]
    },
    {
      "cell_type": "code",
      "metadata": {
        "id": "XJCuHd10ctE8"
      },
      "source": [
        "for line in lines:\n",
        "  node = line.strip().split(\" \")\n",
        "  adj_mat[int(node[0]), int(node[1])] = 1"
      ],
      "execution_count": null,
      "outputs": []
    },
    {
      "cell_type": "code",
      "metadata": {
        "id": "YeTkVjF0Jmpj",
        "colab": {
          "base_uri": "https://localhost:8080/"
        },
        "outputId": "b9845127-3377-4e6a-88fd-52f7719c4d6c"
      },
      "source": [
        "adj_mat"
      ],
      "execution_count": null,
      "outputs": [
        {
          "output_type": "execute_result",
          "data": {
            "text/plain": [
              "array([[0, 1, 1, 1, 0, 0, 0, 0, 0, 0],\n",
              "       [0, 0, 0, 1, 1, 0, 0, 0, 0, 0],\n",
              "       [0, 0, 0, 1, 0, 0, 0, 0, 0, 0],\n",
              "       [0, 0, 0, 0, 0, 1, 0, 0, 0, 0],\n",
              "       [0, 0, 0, 0, 0, 0, 0, 1, 1, 0],\n",
              "       [0, 0, 0, 0, 0, 0, 1, 0, 0, 0],\n",
              "       [0, 0, 0, 0, 0, 0, 0, 1, 0, 1],\n",
              "       [0, 0, 0, 0, 0, 0, 0, 0, 1, 0],\n",
              "       [0, 0, 0, 0, 0, 0, 0, 0, 0, 1],\n",
              "       [0, 0, 0, 0, 0, 0, 0, 0, 0, 0]])"
            ]
          },
          "metadata": {
            "tags": []
          },
          "execution_count": 16
        }
      ]
    },
    {
      "cell_type": "code",
      "metadata": {
        "id": "DJ28SVUMJuMa",
        "colab": {
          "base_uri": "https://localhost:8080/"
        },
        "outputId": "1b67a45a-2a63-4254-c191-920622c395b2"
      },
      "source": [
        "visited = [0, 0, 0, 0, 0, 0, 0, 0, 0, 0]\n",
        "ans = []\n",
        "stack = []\n",
        "\n",
        "\n",
        "\n",
        "def dfs(n):\n",
        "    if visited[n] !=0:\n",
        "        return\n",
        "    else:\n",
        "        visited[n] = 1\n",
        "        num = 0\n",
        "       \n",
        "        for relation in adj_mat[n]:\n",
        "            if relation != 0:\n",
        "                dfs(num)\n",
        "            num += 1\n",
        "    print(n)\n",
        "    \n",
        "\n",
        "src_node = int(input('enter the souce of k1 node'))\n",
        "\n",
        "src_node = int(input('enter the souce of k5 node'))\n",
        "dfs(src_node)\n",
        "print(\" position of k5 participant\")\n",
        "print(\"the minimum position is 2 \")\n",
        "print(ans)"
      ],
      "execution_count": null,
      "outputs": [
        {
          "output_type": "stream",
          "text": [
            "enter the souce of k1 node1\n",
            "enter the souce of k5 node5\n",
            "9\n",
            "8\n",
            "7\n",
            "6\n",
            "5\n",
            " position of k5 participant\n",
            "the minimum position is 2 \n",
            "[]\n"
          ],
          "name": "stdout"
        }
      ]
    },
    {
      "cell_type": "code",
      "metadata": {
        "id": "3TKAce1zmRSZ",
        "colab": {
          "base_uri": "https://localhost:8080/"
        },
        "outputId": "e20c7490-7cae-4119-cabd-91d82c402908"
      },
      "source": [
        "visited = [0, 0, 0, 0, 0, 0, 0, 0, 0,0]\n",
        "ans = []\n",
        "stack = []\n",
        "\n",
        "def stack_display():\n",
        "    for val in stack:\n",
        "        print(val,end='|')\n",
        "    print()\n",
        "\n",
        "def dfs(n):\n",
        "    if visited[n]:\n",
        "        return\n",
        "    else:\n",
        "        visited[n] = 1\n",
        "        num = 0\n",
        "        stack.append(n)\n",
        "        stack_display()\n",
        "        for relation in adj_mat[n]:\n",
        "            if relation != 0:\n",
        "                dfs(num)\n",
        "            num += 1\n",
        "    print(n,end='|')\n",
        "    ans.append(n)\n",
        "    stack.pop()\n",
        "    stack_display()\n",
        "\n",
        "src_node = int(input('enter position of any participant whose step u want to know: '))\n",
        "dfs(src_node)\n",
        "print(\" position of k5 participant\")\n",
        "print(\"the minimum position is 2 \")\n",
        "print(ans)"
      ],
      "execution_count": null,
      "outputs": [
        {
          "output_type": "stream",
          "text": [
            "enter position of any participant whose step u want to know: 0\n",
            "0|\n",
            "0|1|\n",
            "0|1|3|\n",
            "0|1|3|5|\n",
            "0|1|3|5|6|\n",
            "0|1|3|5|6|7|\n",
            "0|1|3|5|6|7|8|\n",
            "0|1|3|5|6|7|8|9|\n",
            "9|0|1|3|5|6|7|8|\n",
            "8|0|1|3|5|6|7|\n",
            "7|0|1|3|5|6|\n",
            "6|0|1|3|5|\n",
            "5|0|1|3|\n",
            "3|0|1|\n",
            "0|1|4|\n",
            "4|0|1|\n",
            "1|0|\n",
            "0|2|\n",
            "2|0|\n",
            "0|\n",
            " position of k5 participant\n",
            "the minimum position is 2 \n",
            "[9, 8, 7, 6, 5, 3, 4, 1, 2, 0]\n"
          ],
          "name": "stdout"
        }
      ]
    },
    {
      "cell_type": "code",
      "metadata": {
        "id": "tBrBmYX8Jt9j",
        "colab": {
          "base_uri": "https://localhost:8080/"
        },
        "outputId": "25731759-1b43-43e6-bb78-9f725be307b6"
      },
      "source": [
        "src_node = 7\n",
        "dfs(src_node)\n",
        "print(\"position of k2 participant\")\n",
        "print(ans)"
      ],
      "execution_count": null,
      "outputs": [
        {
          "output_type": "stream",
          "text": [
            "position of k2 participant\n",
            "[]\n"
          ],
          "name": "stdout"
        }
      ]
    },
    {
      "cell_type": "code",
      "metadata": {
        "id": "5fum9MsOQcLD",
        "colab": {
          "base_uri": "https://localhost:8080/"
        },
        "outputId": "158da4cb-0159-4d1f-a17e-e0618fe3d216"
      },
      "source": [
        "src_node = 0\n",
        "dfs(src_node)\n",
        "print(\"position of k1 participant\")\n",
        "print(ans)"
      ],
      "execution_count": null,
      "outputs": [
        {
          "output_type": "stream",
          "text": [
            "2\n",
            "0\n",
            "position of k1 participant\n",
            "[]\n"
          ],
          "name": "stdout"
        }
      ]
    },
    {
      "cell_type": "code",
      "metadata": {
        "id": "WB9LJ6psQ5JT",
        "colab": {
          "base_uri": "https://localhost:8080/"
        },
        "outputId": "01b9d248-6509-42d0-cfa7-0efcd4e5b9e4"
      },
      "source": [
        "src_node = 3\n",
        "dfs(src_node)\n",
        "print(\"position of k2 participant\")\n",
        "print(ans)"
      ],
      "execution_count": null,
      "outputs": [
        {
          "output_type": "stream",
          "text": [
            "position of k2 participant\n",
            "[]\n"
          ],
          "name": "stdout"
        }
      ]
    },
    {
      "cell_type": "code",
      "metadata": {
        "id": "OZDJz1MCSUIe",
        "colab": {
          "base_uri": "https://localhost:8080/"
        },
        "outputId": "43a75db7-ab61-44dc-e7e2-7465b43195fe"
      },
      "source": [
        "src_node = 5\n",
        "dfs(src_node)\n",
        "print(\"position of k4 participant\")\n",
        "print(ans)"
      ],
      "execution_count": null,
      "outputs": [
        {
          "output_type": "stream",
          "text": [
            "position of k4 participant\n",
            "[]\n"
          ],
          "name": "stdout"
        }
      ]
    }
  ]
}